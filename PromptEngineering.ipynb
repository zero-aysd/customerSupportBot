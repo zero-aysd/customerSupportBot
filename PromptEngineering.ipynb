{
 "cells": [
  {
   "cell_type": "code",
   "execution_count": 1,
   "id": "22339a10-88a8-45ce-9407-1ce45da58344",
   "metadata": {},
   "outputs": [],
   "source": [
    "from openai import OpenAI\n",
    "import pandas as pd\n",
    "import wandb\n",
    "import os\n",
    "import time\n",
    "from tqdm import tqdm"
   ]
  },
  {
   "cell_type": "code",
   "execution_count": 2,
   "id": "3b25d8d7-dc20-4243-85aa-a7cbd82661ed",
   "metadata": {},
   "outputs": [],
   "source": [
    "data_file = \"golden_test_data.csv\"\n",
    "\n",
    "df = pd.read_csv(data_file)"
   ]
  },
  {
   "cell_type": "code",
   "execution_count": null,
   "id": "4f978d61-c5df-450e-ab15-897fc0af6a54",
   "metadata": {},
   "outputs": [],
   "source": []
  },
  {
   "cell_type": "code",
   "execution_count": 3,
   "id": "97dacfdb-0a75-4d83-96b5-c5d54757081d",
   "metadata": {},
   "outputs": [
    {
     "data": {
      "text/plain": [
       "True"
      ]
     },
     "execution_count": 3,
     "metadata": {},
     "output_type": "execute_result"
    }
   ],
   "source": [
    "from dotenv import load_dotenv\n",
    "\n",
    "load_dotenv()"
   ]
  },
  {
   "cell_type": "code",
   "execution_count": 4,
   "id": "59f2d3e5-bd68-47ee-bd98-e396b3066337",
   "metadata": {},
   "outputs": [],
   "source": [
    "api_key = os.getenv(\"OPENAI_API_KEY\")"
   ]
  },
  {
   "cell_type": "code",
   "execution_count": 5,
   "id": "80c4b345-7f25-44d9-b5af-445af3fb9ca8",
   "metadata": {},
   "outputs": [
    {
     "name": "stderr",
     "output_type": "stream",
     "text": [
      "wandb: Currently logged in as: aayush-drishte (aayush-drishte-tredence) to https://api.wandb.ai. Use `wandb login --relogin` to force relogin\n"
     ]
    },
    {
     "data": {
      "text/html": [
       "creating run (0.5s)"
      ],
      "text/plain": [
       "<IPython.core.display.HTML object>"
      ]
     },
     "metadata": {},
     "output_type": "display_data"
    },
    {
     "data": {
      "text/html": [
       "Tracking run with wandb version 0.19.11"
      ],
      "text/plain": [
       "<IPython.core.display.HTML object>"
      ]
     },
     "metadata": {},
     "output_type": "display_data"
    },
    {
     "data": {
      "text/html": [
       "Run data is saved locally in <code>C:\\work\\LLMOPSchatbot\\wandb\\run-20250516_004419-dq3ysnaz</code>"
      ],
      "text/plain": [
       "<IPython.core.display.HTML object>"
      ]
     },
     "metadata": {},
     "output_type": "display_data"
    },
    {
     "data": {
      "text/html": [
       "Syncing run <strong><a href='https://wandb.ai/aayush-drishte-tredence/chatbot-openai-multi-prompt-eval/runs/dq3ysnaz' target=\"_blank\">chatbot-multimetric-eval</a></strong> to <a href='https://wandb.ai/aayush-drishte-tredence/chatbot-openai-multi-prompt-eval' target=\"_blank\">Weights & Biases</a> (<a href='https://wandb.me/developer-guide' target=\"_blank\">docs</a>)<br>"
      ],
      "text/plain": [
       "<IPython.core.display.HTML object>"
      ]
     },
     "metadata": {},
     "output_type": "display_data"
    },
    {
     "data": {
      "text/html": [
       " View project at <a href='https://wandb.ai/aayush-drishte-tredence/chatbot-openai-multi-prompt-eval' target=\"_blank\">https://wandb.ai/aayush-drishte-tredence/chatbot-openai-multi-prompt-eval</a>"
      ],
      "text/plain": [
       "<IPython.core.display.HTML object>"
      ]
     },
     "metadata": {},
     "output_type": "display_data"
    },
    {
     "data": {
      "text/html": [
       " View run at <a href='https://wandb.ai/aayush-drishte-tredence/chatbot-openai-multi-prompt-eval/runs/dq3ysnaz' target=\"_blank\">https://wandb.ai/aayush-drishte-tredence/chatbot-openai-multi-prompt-eval/runs/dq3ysnaz</a>"
      ],
      "text/plain": [
       "<IPython.core.display.HTML object>"
      ]
     },
     "metadata": {},
     "output_type": "display_data"
    }
   ],
   "source": [
    "# ✅ Init W&B\n",
    "# run = wandb.init(\n",
    "#     project=\"chatbot-openai-multi-prompt-eval\",\n",
    "#     name=\"chatbot-multimetric-eval\",\n",
    "#     config={\n",
    "#         \"model\": \"gpt-4.1-mini\",\n",
    "#         \"eval_model\": \"gpt-4.1-mini\",\n",
    "#         \"temperature\": 0.7,\n",
    "#         \"max_tokens\": 500\n",
    "#     },\n",
    "#     save_code=True\n",
    "# )\n",
    "# config = wandb.config"
   ]
  },
  {
   "cell_type": "code",
   "execution_count": 6,
   "id": "f19e1d9f-e6c0-410e-9dd6-33b826ba4aae",
   "metadata": {},
   "outputs": [],
   "source": [
    "MODEL_PRICES = {\n",
    "    \"gpt-3.5-turbo\": 0.0015,\n",
    "    \n",
    "    \"gpt-4.1-mini\": 0.00015,\n",
    "    \"gpt-4.1-nano\": 0.00000525\n",
    "}"
   ]
  },
  {
   "cell_type": "code",
   "execution_count": 7,
   "id": "1c5433f7-dd07-40ff-a6cf-8e1df4fe7c70",
   "metadata": {
    "scrolled": true
   },
   "outputs": [
    {
     "data": {
      "text/html": [
       "<div>\n",
       "<style scoped>\n",
       "    .dataframe tbody tr th:only-of-type {\n",
       "        vertical-align: middle;\n",
       "    }\n",
       "\n",
       "    .dataframe tbody tr th {\n",
       "        vertical-align: top;\n",
       "    }\n",
       "\n",
       "    .dataframe thead th {\n",
       "        text-align: right;\n",
       "    }\n",
       "</style>\n",
       "<table border=\"1\" class=\"dataframe\">\n",
       "  <thead>\n",
       "    <tr style=\"text-align: right;\">\n",
       "      <th></th>\n",
       "      <th>Unnamed: 0</th>\n",
       "      <th>persona</th>\n",
       "      <th>category</th>\n",
       "      <th>customer_query</th>\n",
       "      <th>bot_response</th>\n",
       "      <th>correctness</th>\n",
       "      <th>helpfulness</th>\n",
       "      <th>tone</th>\n",
       "      <th>safety</th>\n",
       "    </tr>\n",
       "  </thead>\n",
       "  <tbody>\n",
       "    <tr>\n",
       "      <th>0</th>\n",
       "      <td>62</td>\n",
       "      <td>polite user</td>\n",
       "      <td>Account Access</td>\n",
       "      <td>Hi, I’m having trouble logging into my account...</td>\n",
       "      <td>Hello! I’m sorry to hear you’re having trouble...</td>\n",
       "      <td>5</td>\n",
       "      <td>5</td>\n",
       "      <td>5</td>\n",
       "      <td>5</td>\n",
       "    </tr>\n",
       "    <tr>\n",
       "      <th>1</th>\n",
       "      <td>41</td>\n",
       "      <td>polite user</td>\n",
       "      <td>Billing</td>\n",
       "      <td>Hello, I noticed an unexpected charge on my bi...</td>\n",
       "      <td>Hello! I’m sorry to hear about the unexpected ...</td>\n",
       "      <td>5</td>\n",
       "      <td>5</td>\n",
       "      <td>5</td>\n",
       "      <td>5</td>\n",
       "    </tr>\n",
       "    <tr>\n",
       "      <th>2</th>\n",
       "      <td>46</td>\n",
       "      <td>confused first-time user</td>\n",
       "      <td>Account Access</td>\n",
       "      <td>Hi, I just signed up but I can’t seem to log i...</td>\n",
       "      <td>I’m sorry to hear you’re having trouble loggin...</td>\n",
       "      <td>5</td>\n",
       "      <td>5</td>\n",
       "      <td>5</td>\n",
       "      <td>5</td>\n",
       "    </tr>\n",
       "    <tr>\n",
       "      <th>3</th>\n",
       "      <td>20</td>\n",
       "      <td>frustrated user</td>\n",
       "      <td>Technical Issue</td>\n",
       "      <td>I've been trying to upload my files for the pa...</td>\n",
       "      <td>I'm really sorry to hear you're having trouble...</td>\n",
       "      <td>5</td>\n",
       "      <td>5</td>\n",
       "      <td>5</td>\n",
       "      <td>5</td>\n",
       "    </tr>\n",
       "    <tr>\n",
       "      <th>4</th>\n",
       "      <td>5</td>\n",
       "      <td>angry user</td>\n",
       "      <td>Account Access</td>\n",
       "      <td>I’ve been trying to log into my account for ov...</td>\n",
       "      <td>I’m really sorry for the frustration this is c...</td>\n",
       "      <td>5</td>\n",
       "      <td>5</td>\n",
       "      <td>5</td>\n",
       "      <td>5</td>\n",
       "    </tr>\n",
       "  </tbody>\n",
       "</table>\n",
       "</div>"
      ],
      "text/plain": [
       "   Unnamed: 0                   persona         category  \\\n",
       "0          62               polite user   Account Access   \n",
       "1          41               polite user          Billing   \n",
       "2          46  confused first-time user   Account Access   \n",
       "3          20           frustrated user  Technical Issue   \n",
       "4           5                angry user   Account Access   \n",
       "\n",
       "                                      customer_query  \\\n",
       "0  Hi, I’m having trouble logging into my account...   \n",
       "1  Hello, I noticed an unexpected charge on my bi...   \n",
       "2  Hi, I just signed up but I can’t seem to log i...   \n",
       "3  I've been trying to upload my files for the pa...   \n",
       "4  I’ve been trying to log into my account for ov...   \n",
       "\n",
       "                                        bot_response  correctness  \\\n",
       "0  Hello! I’m sorry to hear you’re having trouble...            5   \n",
       "1  Hello! I’m sorry to hear about the unexpected ...            5   \n",
       "2  I’m sorry to hear you’re having trouble loggin...            5   \n",
       "3  I'm really sorry to hear you're having trouble...            5   \n",
       "4  I’m really sorry for the frustration this is c...            5   \n",
       "\n",
       "   helpfulness  tone  safety  \n",
       "0            5     5       5  \n",
       "1            5     5       5  \n",
       "2            5     5       5  \n",
       "3            5     5       5  \n",
       "4            5     5       5  "
      ]
     },
     "execution_count": 7,
     "metadata": {},
     "output_type": "execute_result"
    }
   ],
   "source": [
    "df.head()"
   ]
  },
  {
   "cell_type": "code",
   "execution_count": 8,
   "id": "c7ae7e49-9ead-409f-aed2-8f02a64bd33d",
   "metadata": {},
   "outputs": [
    {
     "name": "stdout",
     "output_type": "stream",
     "text": [
      "<class 'pandas.core.frame.DataFrame'>\n",
      "RangeIndex: 20 entries, 0 to 19\n",
      "Data columns (total 9 columns):\n",
      " #   Column          Non-Null Count  Dtype \n",
      "---  ------          --------------  ----- \n",
      " 0   Unnamed: 0      20 non-null     int64 \n",
      " 1   persona         20 non-null     object\n",
      " 2   category        20 non-null     object\n",
      " 3   customer_query  20 non-null     object\n",
      " 4   bot_response    20 non-null     object\n",
      " 5   correctness     20 non-null     int64 \n",
      " 6   helpfulness     20 non-null     int64 \n",
      " 7   tone            20 non-null     int64 \n",
      " 8   safety          20 non-null     int64 \n",
      "dtypes: int64(5), object(4)\n",
      "memory usage: 1.5+ KB\n"
     ]
    }
   ],
   "source": [
    "df.info()"
   ]
  },
  {
   "cell_type": "code",
   "execution_count": 9,
   "id": "51732db5-2fa1-4ef1-8fbd-e8c67ed5c2ff",
   "metadata": {
    "scrolled": true
   },
   "outputs": [
    {
     "data": {
      "text/plain": [
       "['Hi, I’m having trouble logging into my account. It keeps saying my password is incorrect, but I’m sure I’m entering the right one. Can you help me regain access?',\n",
       " 'Hello, I noticed an unexpected charge on my bill this month. Could you please help me understand what it is and how to resolve it?',\n",
       " 'Hi, I just signed up but I can’t seem to log into my account. It says my password is incorrect, but I’m sure I typed it right. What should I do?',\n",
       " 'I\\'ve been trying to upload my files for the past hour, but every time I get an error message saying \"Upload failed.\" I\\'ve checked my internet connection and it\\'s working fine. This is really frustrating because I have a deadline. Can you please help me fix this?',\n",
       " 'I’ve been trying to log into my account for over an hour and it keeps saying my password is wrong! I KNOW it’s right. Why is this happening? I need access NOW!',\n",
       " 'Hi, I recently noticed that my subscription was renewed, but I’m not sure I meant to continue it. Is there any way to cancel it and possibly get a refund for this latest charge?',\n",
       " 'Hi, I placed an order two weeks ago, but I still haven’t received any shipping updates. Could you please help me find out when my package will arrive?',\n",
       " 'I was charged twice for my subscription this month, and I don’t see any explanation for the extra charge. This is really frustrating because I’m on a tight budget. Can you please fix this immediately?',\n",
       " 'I ordered a jacket over two weeks ago and it still hasn’t arrived. I’ve tried tracking the package but the status hasn’t updated at all. I want a refund because this is completely unacceptable!',\n",
       " 'Hi, I just signed up but I can’t seem to log into my account. It says my password is wrong, but I’m sure I typed it correctly. What should I do?',\n",
       " 'Hi, I just bought this new laptop and I\\'m trying to connect to Wi-Fi, but it keeps saying \"unable to connect.\" I’m not sure what I’m doing wrong. Can you help me figure this out?',\n",
       " 'Hello, I order my package two weeks ago, but it not arrive yet. Can you help me check where is my parcel?',\n",
       " 'Hi, I recently ordered a jacket from your website, but it arrived with a tear on the sleeve. Could you please help me with the return process and let me know if I can get a refund or exchange?',\n",
       " \"Hi, I recently purchased a jacket from your website, but it doesn't fit me properly. I would like to know the process for returning it and getting a refund. Could you please help me with this?\",\n",
       " 'I’ve been trying to use the new feature on your app for days now, but it keeps crashing every time I open it. This is really frustrating because I rely on this tool for my work. Can you please fix this or tell me when it will be resolved?',\n",
       " 'Hi, I’m having trouble logging into my account. It keeps saying my password is incorrect, but I’m sure I’m entering the right one. Can you help me regain access?',\n",
       " 'I ordered my package two weeks ago, and it still hasn’t arrived. Every time I check the tracking, it just says “in transit” with no updates. This is really frustrating because I needed the item for an event that’s already passed. Can someone please explain what’s going on and when I can expect my delivery?',\n",
       " 'Hello, I want to cancel my subscription, but I am not sure how. Can you help me, please?',\n",
       " 'Hi, I placed an order two weeks ago, but I haven’t received any shipping updates yet. Could you please help me find out when my package will arrive?',\n",
       " 'Hi, I recently subscribed to your premium plan, but I noticed I was charged twice this month. Could you please help me understand why this happened and how to fix it?']"
      ]
     },
     "execution_count": 9,
     "metadata": {},
     "output_type": "execute_result"
    }
   ],
   "source": [
    "#loading test samples for prompt trials\n",
    "\n",
    "CUSTOMER_QUERIES = [i for i in df['customer_query']]\n",
    "CUSTOMER_QUERIES"
   ]
  },
  {
   "cell_type": "code",
   "execution_count": 10,
   "id": "45b0eeb5-1fe4-4910-8d16-e03280078498",
   "metadata": {},
   "outputs": [],
   "source": [
    "PROMPT_VARIANTS = {\n",
    "   \n",
    "    \"bare-minimum\": \"Answer this: {customer_query}\",\n",
    "    \"no-context\": \"Reply to a customer: {customer_query}\",\n",
    "    \"basic-support\": \"You are a support agent. {customer_query}\",\n",
    "    \"no-tone\": \"You're a chatbot. Help the customer with their question: {customer_query}\",\n",
    "    \"robotic\": \"Provide a formal and structured answer to this: {customer_query}\",\n",
    "\n",
    "    \"ok-tone\": \"Answer politely and clearly: {customer_query}\",\n",
    "    \"good-clarity\": \"You are a helpful support agent. Assist this user: {customer_query}\",\n",
    "    \"with-role\": \"You are a customer service rep. Here's a query: {customer_query}\",\n",
    "    \"contextualized\": \"You are a support agent for an e-commerce platform. Help the customer: {customer_query}\",\n",
    "    \"tone-aware\": \"Respond empathetically and clearly to this user question: {customer_query}\",\n",
    "\n",
    "    \n",
    "    \"context-tone\": \"You’re a friendly and knowledgeable support agent. Help with this query: {customer_query}\",\n",
    "    \"product-aware\": \"You support an online subscription service. Respond empathetically and informatively: {customer_query}\",\n",
    "    \"task-aware\": \"You're an expert in billing, subscriptions, and tech help. Help the customer: {customer_query}\",\n",
    "    \"persona-aware\": \"You support frustrated customers. Respond helpfully: {customer_query}\",\n",
    "    \"rich-context\": \"You're a support agent for a SaaS product. Be empathetic and precise: {customer_query}\",\n",
    "    \"top-tier\": \"You are an award-winning support agent. Give clear, helpful, warm answers: {customer_query}\",\n",
    "    \"holistic\": \"Respond with a helpful solution, emotional tone, and safe advice to: {customer_query}\",\n",
    "\n",
    "    \n",
    "    \"cot-clarification\": \n",
    "        \"\"\"You are a support agent. First, think about what the customer's question is asking. \n",
    "        Then break the problem down and respond in a step-by-step manner.\\n\\n\n",
    "        Customer Query: {customer_query}\"\"\"\n",
    "    ,\n",
    "    \"cot-safety-check\": \"\"\"\n",
    "        Think carefully before answering. First, consider if the query involves any sensitive or risky topics. \n",
    "        Then, answer in a polite and safe way.\\n\\nCustomer Query: {customer_query}\n",
    "   \"\"\",\n",
    "\n",
    "    \"fewshot-basic\": \"\"\"\n",
    "        You are a customer support agent. Here are examples of good responses:\\n\\n\"\n",
    "        Example 1:\\nCustomer: I can't log in to my account.\\nSupport: I'm sorry you're having trouble logging in. Let's get this fixed. Can you try resetting your password using the 'Forgot Password' link?\\n\\n\n",
    "        Example 2:\\nCustomer: I was charged twice for my subscription.\\nSupport: I'm really sorry about that. I've checked your account and see the duplicate charge. I've issued a refund, and you should see it within 3–5 business days.\\n\\n\n",
    "        Now answer this query:\\nCustomer: {customer_query}\"\"\"\n",
    "    ,\n",
    "    \"fewshot-tone-aware\": \"\"\"\n",
    "        You are a warm, empathetic support agent. Learn from the examples:\\n\\n\n",
    "        Example 1:\\nCustomer: My package is late.\\nSupport: I completely understand how frustrating that is. Let me check on the status for you and get it sorted right away.\\n\\n\n",
    "        Example 2:\\nCustomer: I'm getting error 403.\\nSupport: That error usually means there's a permission issue. Could you try logging out and back in?\\n\\n\n",
    "        Now handle this:\\nCustomer: {customer_query}\"\"\"\n",
    "    ,\n",
    "    \"fewshot-with-cot\": \"\"\"\n",
    "        You are a thoughtful support agent. Here’s how to handle queries step-by-step:\\n\\n\n",
    "        Example:\\nCustomer: I want to cancel my subscription.\\nSupport: First, check if the user is on a free or paid plan. Then, provide the cancellation link or instructions. Respond with empathy.\\n\\n\n",
    "        Now apply the same reasoning:\\nCustomer: {customer_query}\"\"\"\n",
    "    ,\n",
    "\n",
    " \n",
    "    \"optimized\": \"\"\"\n",
    "        \"You're a highly trained support rep for a SaaS company. Read the customer's question carefully, think step-by-step if needed, and answer clearly, empathetically, and safely.\\n\\n\n",
    "        \"Customer: {customer_query}\"\"\"\n",
    "    ,\n",
    "    \"Finalized_prompt\": \"\"\"\n",
    "        You're a customer support expert at a subscription-based SaaS company. First, think about the intent of the query. \n",
    "        Make sure your answer is:\\n1. Accurate\\n2. Helpful\\n3. Polite and empathetic\\n4. Safe\\n\\n\n",
    "        Then write your response:\\n\\nCustomer: {customer_query}\"\"\"\n",
    "    \n",
    "}\n"
   ]
  },
  {
   "cell_type": "code",
   "execution_count": 11,
   "id": "c93d092b-81b6-4f77-8122-670298bced64",
   "metadata": {},
   "outputs": [],
   "source": [
    "\n",
    "\n",
    "def call_chat(client,model, messages, temperature=0.7, max_tokens=500):\n",
    "    start = time.time()\n",
    "    response = client.chat.completions.create(\n",
    "        model=model,\n",
    "        messages=messages,\n",
    "        temperature=temperature,\n",
    "        max_tokens=max_tokens\n",
    "    )\n",
    "    latency = time.time() - start\n",
    "    usage = response.usage\n",
    "    content = response.choices[0].message.content\n",
    "    cost = (\n",
    "        (usage.prompt_tokens / 1000) * MODEL_PRICES[model] +\n",
    "        (usage.completion_tokens / 1000) * MODEL_PRICES.get(f\"{model}-completion\", MODEL_PRICES[model])\n",
    "    )\n",
    "    time.sleep(0.7)\n",
    "    return content.strip(), usage, cost, latency"
   ]
  },
  {
   "cell_type": "code",
   "execution_count": null,
   "id": "64185055-098a-4970-a2d2-e5d2a4588abf",
   "metadata": {},
   "outputs": [],
   "source": []
  },
  {
   "cell_type": "code",
   "execution_count": 12,
   "id": "c8cced1e-12b2-4749-842e-dc6b3212b3b9",
   "metadata": {},
   "outputs": [],
   "source": [
    "client = OpenAI(api_key=api_key)\n",
    "\n",
    "model = \"gpt-4.1-mini\""
   ]
  },
  {
   "cell_type": "code",
   "execution_count": 13,
   "id": "7244c9c8-4ef1-4da0-9da1-b7c9fa7c547e",
   "metadata": {},
   "outputs": [
    {
     "name": "stderr",
     "output_type": "stream",
     "text": [
      "  0%|                                                                                           | 0/24 [00:00<?, ?it/s]"
     ]
    },
    {
     "data": {
      "text/html": [
       "Finishing previous runs because reinit is set to 'default'."
      ],
      "text/plain": [
       "<IPython.core.display.HTML object>"
      ]
     },
     "metadata": {},
     "output_type": "display_data"
    },
    {
     "data": {
      "text/html": [],
      "text/plain": [
       "<IPython.core.display.HTML object>"
      ]
     },
     "metadata": {},
     "output_type": "display_data"
    },
    {
     "data": {
      "text/html": [
       " View run <strong style=\"color:#cdcd00\">chatbot-multimetric-eval</strong> at: <a href='https://wandb.ai/aayush-drishte-tredence/chatbot-openai-multi-prompt-eval/runs/dq3ysnaz' target=\"_blank\">https://wandb.ai/aayush-drishte-tredence/chatbot-openai-multi-prompt-eval/runs/dq3ysnaz</a><br> View project at: <a href='https://wandb.ai/aayush-drishte-tredence/chatbot-openai-multi-prompt-eval' target=\"_blank\">https://wandb.ai/aayush-drishte-tredence/chatbot-openai-multi-prompt-eval</a><br>Synced 6 W&B file(s), 0 media file(s), 4 artifact file(s) and 0 other file(s)"
      ],
      "text/plain": [
       "<IPython.core.display.HTML object>"
      ]
     },
     "metadata": {},
     "output_type": "display_data"
    },
    {
     "data": {
      "text/html": [
       "Find logs at: <code>.\\wandb\\run-20250516_004419-dq3ysnaz\\logs</code>"
      ],
      "text/plain": [
       "<IPython.core.display.HTML object>"
      ]
     },
     "metadata": {},
     "output_type": "display_data"
    },
    {
     "data": {
      "text/html": [
       "creating run (0.1s)"
      ],
      "text/plain": [
       "<IPython.core.display.HTML object>"
      ]
     },
     "metadata": {},
     "output_type": "display_data"
    },
    {
     "data": {
      "text/html": [
       "Tracking run with wandb version 0.19.11"
      ],
      "text/plain": [
       "<IPython.core.display.HTML object>"
      ]
     },
     "metadata": {},
     "output_type": "display_data"
    },
    {
     "data": {
      "text/html": [
       "Run data is saved locally in <code>C:\\work\\LLMOPSchatbot\\wandb\\run-20250516_004425-mksihkti</code>"
      ],
      "text/plain": [
       "<IPython.core.display.HTML object>"
      ]
     },
     "metadata": {},
     "output_type": "display_data"
    },
    {
     "data": {
      "text/html": [
       "Syncing run <strong><a href='https://wandb.ai/aayush-drishte-tredence/customer-support-prompt-experiments/runs/mksihkti' target=\"_blank\">bare-minimum</a></strong> to <a href='https://wandb.ai/aayush-drishte-tredence/customer-support-prompt-experiments' target=\"_blank\">Weights & Biases</a> (<a href='https://wandb.me/developer-guide' target=\"_blank\">docs</a>)<br>"
      ],
      "text/plain": [
       "<IPython.core.display.HTML object>"
      ]
     },
     "metadata": {},
     "output_type": "display_data"
    },
    {
     "data": {
      "text/html": [
       " View project at <a href='https://wandb.ai/aayush-drishte-tredence/customer-support-prompt-experiments' target=\"_blank\">https://wandb.ai/aayush-drishte-tredence/customer-support-prompt-experiments</a>"
      ],
      "text/plain": [
       "<IPython.core.display.HTML object>"
      ]
     },
     "metadata": {},
     "output_type": "display_data"
    },
    {
     "data": {
      "text/html": [
       " View run at <a href='https://wandb.ai/aayush-drishte-tredence/customer-support-prompt-experiments/runs/mksihkti' target=\"_blank\">https://wandb.ai/aayush-drishte-tredence/customer-support-prompt-experiments/runs/mksihkti</a>"
      ],
      "text/plain": [
       "<IPython.core.display.HTML object>"
      ]
     },
     "metadata": {},
     "output_type": "display_data"
    },
    {
     "data": {
      "text/html": [],
      "text/plain": [
       "<IPython.core.display.HTML object>"
      ]
     },
     "metadata": {},
     "output_type": "display_data"
    },
    {
     "data": {
      "text/html": [
       "<br>    <style><br>        .wandb-row {<br>            display: flex;<br>            flex-direction: row;<br>            flex-wrap: wrap;<br>            justify-content: flex-start;<br>            width: 100%;<br>        }<br>        .wandb-col {<br>            display: flex;<br>            flex-direction: column;<br>            flex-basis: 100%;<br>            flex: 1;<br>            padding: 10px;<br>        }<br>    </style><br><div class=\"wandb-row\"><div class=\"wandb-col\"><h3>Run history:</h3><br/><table class=\"wandb\"><tr><td>completion_tokens</td><td>▅▂▃█▅▂▁▁▁▄▇▁▄▄▂▄▃▁▁▂</td></tr><tr><td>cost</td><td>▅▂▃█▅▂▂▂▂▄▇▁▄▄▃▄▄▁▂▂</td></tr><tr><td>latency</td><td>▆▂▃█▅▂▁▁▁▃▇▁▃▄▃▄▃▁▁▂</td></tr><tr><td>prompt_tokens</td><td>▃▂▃▆▃▄▃▄▄▃▄▁▄▄▆▃█▁▃▃</td></tr><tr><td>total_tokens</td><td>▅▂▃█▅▂▂▂▂▄▇▁▄▄▃▄▄▁▂▂</td></tr></table><br/></div><div class=\"wandb-col\"><h3>Run summary:</h3><br/><table class=\"wandb\"><tr><td>completion_tokens</td><td>82</td></tr><tr><td>cost</td><td>2e-05</td></tr><tr><td>latency</td><td>2.19281</td></tr><tr><td>prompt_tokens</td><td>45</td></tr><tr><td>total_tokens</td><td>127</td></tr></table><br/></div></div>"
      ],
      "text/plain": [
       "<IPython.core.display.HTML object>"
      ]
     },
     "metadata": {},
     "output_type": "display_data"
    },
    {
     "data": {
      "text/html": [
       " View run <strong style=\"color:#cdcd00\">bare-minimum</strong> at: <a href='https://wandb.ai/aayush-drishte-tredence/customer-support-prompt-experiments/runs/mksihkti' target=\"_blank\">https://wandb.ai/aayush-drishte-tredence/customer-support-prompt-experiments/runs/mksihkti</a><br> View project at: <a href='https://wandb.ai/aayush-drishte-tredence/customer-support-prompt-experiments' target=\"_blank\">https://wandb.ai/aayush-drishte-tredence/customer-support-prompt-experiments</a><br>Synced 5 W&B file(s), 1 media file(s), 2 artifact file(s) and 0 other file(s)"
      ],
      "text/plain": [
       "<IPython.core.display.HTML object>"
      ]
     },
     "metadata": {},
     "output_type": "display_data"
    },
    {
     "data": {
      "text/html": [
       "Find logs at: <code>.\\wandb\\run-20250516_004425-mksihkti\\logs</code>"
      ],
      "text/plain": [
       "<IPython.core.display.HTML object>"
      ]
     },
     "metadata": {},
     "output_type": "display_data"
    },
    {
     "name": "stderr",
     "output_type": "stream",
     "text": [
      "  4%|███▍                                                                               | 1/24 [01:30<34:30, 90.02s/it]"
     ]
    },
    {
     "data": {
      "text/html": [
       "creating run (0.1s)"
      ],
      "text/plain": [
       "<IPython.core.display.HTML object>"
      ]
     },
     "metadata": {},
     "output_type": "display_data"
    },
    {
     "data": {
      "text/html": [
       "Tracking run with wandb version 0.19.11"
      ],
      "text/plain": [
       "<IPython.core.display.HTML object>"
      ]
     },
     "metadata": {},
     "output_type": "display_data"
    },
    {
     "data": {
      "text/html": [
       "Run data is saved locally in <code>C:\\work\\LLMOPSchatbot\\wandb\\run-20250516_004555-8470dzrd</code>"
      ],
      "text/plain": [
       "<IPython.core.display.HTML object>"
      ]
     },
     "metadata": {},
     "output_type": "display_data"
    },
    {
     "data": {
      "text/html": [
       "Syncing run <strong><a href='https://wandb.ai/aayush-drishte-tredence/customer-support-prompt-experiments/runs/8470dzrd' target=\"_blank\">no-context</a></strong> to <a href='https://wandb.ai/aayush-drishte-tredence/customer-support-prompt-experiments' target=\"_blank\">Weights & Biases</a> (<a href='https://wandb.me/developer-guide' target=\"_blank\">docs</a>)<br>"
      ],
      "text/plain": [
       "<IPython.core.display.HTML object>"
      ]
     },
     "metadata": {},
     "output_type": "display_data"
    },
    {
     "data": {
      "text/html": [
       " View project at <a href='https://wandb.ai/aayush-drishte-tredence/customer-support-prompt-experiments' target=\"_blank\">https://wandb.ai/aayush-drishte-tredence/customer-support-prompt-experiments</a>"
      ],
      "text/plain": [
       "<IPython.core.display.HTML object>"
      ]
     },
     "metadata": {},
     "output_type": "display_data"
    },
    {
     "data": {
      "text/html": [
       " View run at <a href='https://wandb.ai/aayush-drishte-tredence/customer-support-prompt-experiments/runs/8470dzrd' target=\"_blank\">https://wandb.ai/aayush-drishte-tredence/customer-support-prompt-experiments/runs/8470dzrd</a>"
      ],
      "text/plain": [
       "<IPython.core.display.HTML object>"
      ]
     },
     "metadata": {},
     "output_type": "display_data"
    },
    {
     "data": {
      "text/html": [],
      "text/plain": [
       "<IPython.core.display.HTML object>"
      ]
     },
     "metadata": {},
     "output_type": "display_data"
    },
    {
     "data": {
      "text/html": [
       "<br>    <style><br>        .wandb-row {<br>            display: flex;<br>            flex-direction: row;<br>            flex-wrap: wrap;<br>            justify-content: flex-start;<br>            width: 100%;<br>        }<br>        .wandb-col {<br>            display: flex;<br>            flex-direction: column;<br>            flex-basis: 100%;<br>            flex: 1;<br>            padding: 10px;<br>        }<br>    </style><br><div class=\"wandb-row\"><div class=\"wandb-col\"><h3>Run history:</h3><br/><table class=\"wandb\"><tr><td>completion_tokens</td><td>▆▃▁▇▇▄▂▅▅▅▆▄▅▆█▂▇▁▅▄</td></tr><tr><td>cost</td><td>▅▃▂█▆▄▂▅▅▅▆▃▅▆█▃▇▁▄▄</td></tr><tr><td>latency</td><td>█▂▁██▂▂█▅▆▅▂▃▅▅▄▆▃▂▄</td></tr><tr><td>prompt_tokens</td><td>▃▂▃▆▃▄▃▄▄▃▄▁▄▄▆▃█▁▃▃</td></tr><tr><td>total_tokens</td><td>▅▃▂█▆▄▂▅▅▅▆▃▅▆█▃▇▁▄▄</td></tr></table><br/></div><div class=\"wandb-col\"><h3>Run summary:</h3><br/><table class=\"wandb\"><tr><td>completion_tokens</td><td>103</td></tr><tr><td>cost</td><td>2e-05</td></tr><tr><td>latency</td><td>2.58921</td></tr><tr><td>prompt_tokens</td><td>47</td></tr><tr><td>total_tokens</td><td>150</td></tr></table><br/></div></div>"
      ],
      "text/plain": [
       "<IPython.core.display.HTML object>"
      ]
     },
     "metadata": {},
     "output_type": "display_data"
    },
    {
     "data": {
      "text/html": [
       " View run <strong style=\"color:#cdcd00\">no-context</strong> at: <a href='https://wandb.ai/aayush-drishte-tredence/customer-support-prompt-experiments/runs/8470dzrd' target=\"_blank\">https://wandb.ai/aayush-drishte-tredence/customer-support-prompt-experiments/runs/8470dzrd</a><br> View project at: <a href='https://wandb.ai/aayush-drishte-tredence/customer-support-prompt-experiments' target=\"_blank\">https://wandb.ai/aayush-drishte-tredence/customer-support-prompt-experiments</a><br>Synced 5 W&B file(s), 1 media file(s), 2 artifact file(s) and 0 other file(s)"
      ],
      "text/plain": [
       "<IPython.core.display.HTML object>"
      ]
     },
     "metadata": {},
     "output_type": "display_data"
    },
    {
     "data": {
      "text/html": [
       "Find logs at: <code>.\\wandb\\run-20250516_004555-8470dzrd\\logs</code>"
      ],
      "text/plain": [
       "<IPython.core.display.HTML object>"
      ]
     },
     "metadata": {},
     "output_type": "display_data"
    },
    {
     "name": "stderr",
     "output_type": "stream",
     "text": [
      "  8%|██████▉                                                                            | 2/24 [02:45<29:54, 81.55s/it]"
     ]
    },
    {
     "data": {
      "text/html": [
       "creating run (0.1s)"
      ],
      "text/plain": [
       "<IPython.core.display.HTML object>"
      ]
     },
     "metadata": {},
     "output_type": "display_data"
    },
    {
     "data": {
      "text/html": [
       "Tracking run with wandb version 0.19.11"
      ],
      "text/plain": [
       "<IPython.core.display.HTML object>"
      ]
     },
     "metadata": {},
     "output_type": "display_data"
    },
    {
     "data": {
      "text/html": [
       "Run data is saved locally in <code>C:\\work\\LLMOPSchatbot\\wandb\\run-20250516_004710-x6h3dbwb</code>"
      ],
      "text/plain": [
       "<IPython.core.display.HTML object>"
      ]
     },
     "metadata": {},
     "output_type": "display_data"
    },
    {
     "data": {
      "text/html": [
       "Syncing run <strong><a href='https://wandb.ai/aayush-drishte-tredence/customer-support-prompt-experiments/runs/x6h3dbwb' target=\"_blank\">basic-support</a></strong> to <a href='https://wandb.ai/aayush-drishte-tredence/customer-support-prompt-experiments' target=\"_blank\">Weights & Biases</a> (<a href='https://wandb.me/developer-guide' target=\"_blank\">docs</a>)<br>"
      ],
      "text/plain": [
       "<IPython.core.display.HTML object>"
      ]
     },
     "metadata": {},
     "output_type": "display_data"
    },
    {
     "data": {
      "text/html": [
       " View project at <a href='https://wandb.ai/aayush-drishte-tredence/customer-support-prompt-experiments' target=\"_blank\">https://wandb.ai/aayush-drishte-tredence/customer-support-prompt-experiments</a>"
      ],
      "text/plain": [
       "<IPython.core.display.HTML object>"
      ]
     },
     "metadata": {},
     "output_type": "display_data"
    },
    {
     "data": {
      "text/html": [
       " View run at <a href='https://wandb.ai/aayush-drishte-tredence/customer-support-prompt-experiments/runs/x6h3dbwb' target=\"_blank\">https://wandb.ai/aayush-drishte-tredence/customer-support-prompt-experiments/runs/x6h3dbwb</a>"
      ],
      "text/plain": [
       "<IPython.core.display.HTML object>"
      ]
     },
     "metadata": {},
     "output_type": "display_data"
    },
    {
     "data": {
      "text/html": [],
      "text/plain": [
       "<IPython.core.display.HTML object>"
      ]
     },
     "metadata": {},
     "output_type": "display_data"
    },
    {
     "data": {
      "text/html": [
       "<br>    <style><br>        .wandb-row {<br>            display: flex;<br>            flex-direction: row;<br>            flex-wrap: wrap;<br>            justify-content: flex-start;<br>            width: 100%;<br>        }<br>        .wandb-col {<br>            display: flex;<br>            flex-direction: column;<br>            flex-basis: 100%;<br>            flex: 1;<br>            padding: 10px;<br>        }<br>    </style><br><div class=\"wandb-row\"><div class=\"wandb-col\"><h3>Run history:</h3><br/><table class=\"wandb\"><tr><td>completion_tokens</td><td>▂▂▆▇▅▂▁▃▃▅█▁▆█▆▃▄▁▂▃</td></tr><tr><td>cost</td><td>▃▂▆▇▆▃▂▃▃▅█▁▆█▆▃▅▁▂▄</td></tr><tr><td>latency</td><td>▁▁▃▅▄▁▁▂▂▂▄▁█▆▅▂▃▁▂▃</td></tr><tr><td>prompt_tokens</td><td>▃▂▃▆▃▄▃▄▄▃▄▁▄▄▆▃█▁▃▃</td></tr><tr><td>total_tokens</td><td>▃▂▆▇▆▃▂▃▃▅█▁▆█▆▃▅▁▂▄</td></tr></table><br/></div><div class=\"wandb-col\"><h3>Run summary:</h3><br/><table class=\"wandb\"><tr><td>completion_tokens</td><td>97</td></tr><tr><td>cost</td><td>2e-05</td></tr><tr><td>latency</td><td>3.11908</td></tr><tr><td>prompt_tokens</td><td>48</td></tr><tr><td>total_tokens</td><td>145</td></tr></table><br/></div></div>"
      ],
      "text/plain": [
       "<IPython.core.display.HTML object>"
      ]
     },
     "metadata": {},
     "output_type": "display_data"
    },
    {
     "data": {
      "text/html": [
       " View run <strong style=\"color:#cdcd00\">basic-support</strong> at: <a href='https://wandb.ai/aayush-drishte-tredence/customer-support-prompt-experiments/runs/x6h3dbwb' target=\"_blank\">https://wandb.ai/aayush-drishte-tredence/customer-support-prompt-experiments/runs/x6h3dbwb</a><br> View project at: <a href='https://wandb.ai/aayush-drishte-tredence/customer-support-prompt-experiments' target=\"_blank\">https://wandb.ai/aayush-drishte-tredence/customer-support-prompt-experiments</a><br>Synced 5 W&B file(s), 1 media file(s), 2 artifact file(s) and 0 other file(s)"
      ],
      "text/plain": [
       "<IPython.core.display.HTML object>"
      ]
     },
     "metadata": {},
     "output_type": "display_data"
    },
    {
     "data": {
      "text/html": [
       "Find logs at: <code>.\\wandb\\run-20250516_004710-x6h3dbwb\\logs</code>"
      ],
      "text/plain": [
       "<IPython.core.display.HTML object>"
      ]
     },
     "metadata": {},
     "output_type": "display_data"
    },
    {
     "name": "stderr",
     "output_type": "stream",
     "text": [
      " 12%|██████████▍                                                                        | 3/24 [03:59<27:20, 78.13s/it]"
     ]
    },
    {
     "data": {
      "text/html": [
       "creating run (0.1s)"
      ],
      "text/plain": [
       "<IPython.core.display.HTML object>"
      ]
     },
     "metadata": {},
     "output_type": "display_data"
    },
    {
     "data": {
      "text/html": [
       "Tracking run with wandb version 0.19.11"
      ],
      "text/plain": [
       "<IPython.core.display.HTML object>"
      ]
     },
     "metadata": {},
     "output_type": "display_data"
    },
    {
     "data": {
      "text/html": [
       "Run data is saved locally in <code>C:\\work\\LLMOPSchatbot\\wandb\\run-20250516_004825-1gam0uor</code>"
      ],
      "text/plain": [
       "<IPython.core.display.HTML object>"
      ]
     },
     "metadata": {},
     "output_type": "display_data"
    },
    {
     "data": {
      "text/html": [
       "Syncing run <strong><a href='https://wandb.ai/aayush-drishte-tredence/customer-support-prompt-experiments/runs/1gam0uor' target=\"_blank\">no-tone</a></strong> to <a href='https://wandb.ai/aayush-drishte-tredence/customer-support-prompt-experiments' target=\"_blank\">Weights & Biases</a> (<a href='https://wandb.me/developer-guide' target=\"_blank\">docs</a>)<br>"
      ],
      "text/plain": [
       "<IPython.core.display.HTML object>"
      ]
     },
     "metadata": {},
     "output_type": "display_data"
    },
    {
     "data": {
      "text/html": [
       " View project at <a href='https://wandb.ai/aayush-drishte-tredence/customer-support-prompt-experiments' target=\"_blank\">https://wandb.ai/aayush-drishte-tredence/customer-support-prompt-experiments</a>"
      ],
      "text/plain": [
       "<IPython.core.display.HTML object>"
      ]
     },
     "metadata": {},
     "output_type": "display_data"
    },
    {
     "data": {
      "text/html": [
       " View run at <a href='https://wandb.ai/aayush-drishte-tredence/customer-support-prompt-experiments/runs/1gam0uor' target=\"_blank\">https://wandb.ai/aayush-drishte-tredence/customer-support-prompt-experiments/runs/1gam0uor</a>"
      ],
      "text/plain": [
       "<IPython.core.display.HTML object>"
      ]
     },
     "metadata": {},
     "output_type": "display_data"
    },
    {
     "data": {
      "text/html": [],
      "text/plain": [
       "<IPython.core.display.HTML object>"
      ]
     },
     "metadata": {},
     "output_type": "display_data"
    },
    {
     "data": {
      "text/html": [
       "<br>    <style><br>        .wandb-row {<br>            display: flex;<br>            flex-direction: row;<br>            flex-wrap: wrap;<br>            justify-content: flex-start;<br>            width: 100%;<br>        }<br>        .wandb-col {<br>            display: flex;<br>            flex-direction: column;<br>            flex-basis: 100%;<br>            flex: 1;<br>            padding: 10px;<br>        }<br>    </style><br><div class=\"wandb-row\"><div class=\"wandb-col\"><h3>Run history:</h3><br/><table class=\"wandb\"><tr><td>completion_tokens</td><td>▅▂▄█▅▃▂▂▂▆█▁▅█▆▄▄▁▁▅</td></tr><tr><td>cost</td><td>▅▂▄█▅▃▂▂▃▅▇▁▅▇▆▄▅▁▂▄</td></tr><tr><td>latency</td><td>▄▃▄▆▇▃▁▂▂▅█▁▅▇▄▃▃▂▁▄</td></tr><tr><td>prompt_tokens</td><td>▃▂▃▆▃▄▃▄▄▃▄▁▄▄▆▃█▁▃▃</td></tr><tr><td>total_tokens</td><td>▅▂▄█▅▃▂▂▃▅▇▁▅▇▆▄▅▁▂▄</td></tr></table><br/></div><div class=\"wandb-col\"><h3>Run summary:</h3><br/><table class=\"wandb\"><tr><td>completion_tokens</td><td>131</td></tr><tr><td>cost</td><td>3e-05</td></tr><tr><td>latency</td><td>2.70628</td></tr><tr><td>prompt_tokens</td><td>53</td></tr><tr><td>total_tokens</td><td>184</td></tr></table><br/></div></div>"
      ],
      "text/plain": [
       "<IPython.core.display.HTML object>"
      ]
     },
     "metadata": {},
     "output_type": "display_data"
    },
    {
     "data": {
      "text/html": [
       " View run <strong style=\"color:#cdcd00\">no-tone</strong> at: <a href='https://wandb.ai/aayush-drishte-tredence/customer-support-prompt-experiments/runs/1gam0uor' target=\"_blank\">https://wandb.ai/aayush-drishte-tredence/customer-support-prompt-experiments/runs/1gam0uor</a><br> View project at: <a href='https://wandb.ai/aayush-drishte-tredence/customer-support-prompt-experiments' target=\"_blank\">https://wandb.ai/aayush-drishte-tredence/customer-support-prompt-experiments</a><br>Synced 5 W&B file(s), 1 media file(s), 2 artifact file(s) and 0 other file(s)"
      ],
      "text/plain": [
       "<IPython.core.display.HTML object>"
      ]
     },
     "metadata": {},
     "output_type": "display_data"
    },
    {
     "data": {
      "text/html": [
       "Find logs at: <code>.\\wandb\\run-20250516_004825-1gam0uor\\logs</code>"
      ],
      "text/plain": [
       "<IPython.core.display.HTML object>"
      ]
     },
     "metadata": {},
     "output_type": "display_data"
    },
    {
     "name": "stderr",
     "output_type": "stream",
     "text": [
      " 17%|█████████████▊                                                                     | 4/24 [05:12<25:21, 76.08s/it]"
     ]
    },
    {
     "data": {
      "text/html": [
       "creating run (0.1s)"
      ],
      "text/plain": [
       "<IPython.core.display.HTML object>"
      ]
     },
     "metadata": {},
     "output_type": "display_data"
    },
    {
     "data": {
      "text/html": [
       "Tracking run with wandb version 0.19.11"
      ],
      "text/plain": [
       "<IPython.core.display.HTML object>"
      ]
     },
     "metadata": {},
     "output_type": "display_data"
    },
    {
     "data": {
      "text/html": [
       "Run data is saved locally in <code>C:\\work\\LLMOPSchatbot\\wandb\\run-20250516_004937-aod5e08y</code>"
      ],
      "text/plain": [
       "<IPython.core.display.HTML object>"
      ]
     },
     "metadata": {},
     "output_type": "display_data"
    },
    {
     "data": {
      "text/html": [
       "Syncing run <strong><a href='https://wandb.ai/aayush-drishte-tredence/customer-support-prompt-experiments/runs/aod5e08y' target=\"_blank\">robotic</a></strong> to <a href='https://wandb.ai/aayush-drishte-tredence/customer-support-prompt-experiments' target=\"_blank\">Weights & Biases</a> (<a href='https://wandb.me/developer-guide' target=\"_blank\">docs</a>)<br>"
      ],
      "text/plain": [
       "<IPython.core.display.HTML object>"
      ]
     },
     "metadata": {},
     "output_type": "display_data"
    },
    {
     "data": {
      "text/html": [
       " View project at <a href='https://wandb.ai/aayush-drishte-tredence/customer-support-prompt-experiments' target=\"_blank\">https://wandb.ai/aayush-drishte-tredence/customer-support-prompt-experiments</a>"
      ],
      "text/plain": [
       "<IPython.core.display.HTML object>"
      ]
     },
     "metadata": {},
     "output_type": "display_data"
    },
    {
     "data": {
      "text/html": [
       " View run at <a href='https://wandb.ai/aayush-drishte-tredence/customer-support-prompt-experiments/runs/aod5e08y' target=\"_blank\">https://wandb.ai/aayush-drishte-tredence/customer-support-prompt-experiments/runs/aod5e08y</a>"
      ],
      "text/plain": [
       "<IPython.core.display.HTML object>"
      ]
     },
     "metadata": {},
     "output_type": "display_data"
    },
    {
     "data": {
      "text/html": [],
      "text/plain": [
       "<IPython.core.display.HTML object>"
      ]
     },
     "metadata": {},
     "output_type": "display_data"
    },
    {
     "data": {
      "text/html": [
       "<br>    <style><br>        .wandb-row {<br>            display: flex;<br>            flex-direction: row;<br>            flex-wrap: wrap;<br>            justify-content: flex-start;<br>            width: 100%;<br>        }<br>        .wandb-col {<br>            display: flex;<br>            flex-direction: column;<br>            flex-basis: 100%;<br>            flex: 1;<br>            padding: 10px;<br>        }<br>    </style><br><div class=\"wandb-row\"><div class=\"wandb-col\"><h3>Run history:</h3><br/><table class=\"wandb\"><tr><td>completion_tokens</td><td>▃▂▄▄▅▂▁▂▂▃█▁▃▅▄▃▃▃▁▂</td></tr><tr><td>cost</td><td>▃▂▄▅▅▂▁▂▂▃█▁▄▅▄▃▄▂▁▂</td></tr><tr><td>latency</td><td>▃▂▄▂▄▁▁▃▄▃█▁▂▅▄▃▄▄▂▄</td></tr><tr><td>prompt_tokens</td><td>▃▂▃▆▃▄▃▄▄▃▄▁▄▄▆▃█▁▃▃</td></tr><tr><td>total_tokens</td><td>▃▂▄▅▅▂▁▂▂▃█▁▄▅▄▃▄▂▁▂</td></tr></table><br/></div><div class=\"wandb-col\"><h3>Run summary:</h3><br/><table class=\"wandb\"><tr><td>completion_tokens</td><td>169</td></tr><tr><td>cost</td><td>3e-05</td></tr><tr><td>latency</td><td>5.55415</td></tr><tr><td>prompt_tokens</td><td>51</td></tr><tr><td>total_tokens</td><td>220</td></tr></table><br/></div></div>"
      ],
      "text/plain": [
       "<IPython.core.display.HTML object>"
      ]
     },
     "metadata": {},
     "output_type": "display_data"
    },
    {
     "data": {
      "text/html": [
       " View run <strong style=\"color:#cdcd00\">robotic</strong> at: <a href='https://wandb.ai/aayush-drishte-tredence/customer-support-prompt-experiments/runs/aod5e08y' target=\"_blank\">https://wandb.ai/aayush-drishte-tredence/customer-support-prompt-experiments/runs/aod5e08y</a><br> View project at: <a href='https://wandb.ai/aayush-drishte-tredence/customer-support-prompt-experiments' target=\"_blank\">https://wandb.ai/aayush-drishte-tredence/customer-support-prompt-experiments</a><br>Synced 5 W&B file(s), 1 media file(s), 2 artifact file(s) and 0 other file(s)"
      ],
      "text/plain": [
       "<IPython.core.display.HTML object>"
      ]
     },
     "metadata": {},
     "output_type": "display_data"
    },
    {
     "data": {
      "text/html": [
       "Find logs at: <code>.\\wandb\\run-20250516_004937-aod5e08y\\logs</code>"
      ],
      "text/plain": [
       "<IPython.core.display.HTML object>"
      ]
     },
     "metadata": {},
     "output_type": "display_data"
    },
    {
     "name": "stderr",
     "output_type": "stream",
     "text": [
      " 21%|█████████████████▎                                                                 | 5/24 [07:08<28:38, 90.45s/it]"
     ]
    },
    {
     "data": {
      "text/html": [
       "creating run (0.1s)"
      ],
      "text/plain": [
       "<IPython.core.display.HTML object>"
      ]
     },
     "metadata": {},
     "output_type": "display_data"
    },
    {
     "data": {
      "text/html": [
       "Tracking run with wandb version 0.19.11"
      ],
      "text/plain": [
       "<IPython.core.display.HTML object>"
      ]
     },
     "metadata": {},
     "output_type": "display_data"
    },
    {
     "data": {
      "text/html": [
       "Run data is saved locally in <code>C:\\work\\LLMOPSchatbot\\wandb\\run-20250516_005133-lfbskqir</code>"
      ],
      "text/plain": [
       "<IPython.core.display.HTML object>"
      ]
     },
     "metadata": {},
     "output_type": "display_data"
    },
    {
     "data": {
      "text/html": [
       "Syncing run <strong><a href='https://wandb.ai/aayush-drishte-tredence/customer-support-prompt-experiments/runs/lfbskqir' target=\"_blank\">ok-tone</a></strong> to <a href='https://wandb.ai/aayush-drishte-tredence/customer-support-prompt-experiments' target=\"_blank\">Weights & Biases</a> (<a href='https://wandb.me/developer-guide' target=\"_blank\">docs</a>)<br>"
      ],
      "text/plain": [
       "<IPython.core.display.HTML object>"
      ]
     },
     "metadata": {},
     "output_type": "display_data"
    },
    {
     "data": {
      "text/html": [
       " View project at <a href='https://wandb.ai/aayush-drishte-tredence/customer-support-prompt-experiments' target=\"_blank\">https://wandb.ai/aayush-drishte-tredence/customer-support-prompt-experiments</a>"
      ],
      "text/plain": [
       "<IPython.core.display.HTML object>"
      ]
     },
     "metadata": {},
     "output_type": "display_data"
    },
    {
     "data": {
      "text/html": [
       " View run at <a href='https://wandb.ai/aayush-drishte-tredence/customer-support-prompt-experiments/runs/lfbskqir' target=\"_blank\">https://wandb.ai/aayush-drishte-tredence/customer-support-prompt-experiments/runs/lfbskqir</a>"
      ],
      "text/plain": [
       "<IPython.core.display.HTML object>"
      ]
     },
     "metadata": {},
     "output_type": "display_data"
    },
    {
     "data": {
      "text/html": [],
      "text/plain": [
       "<IPython.core.display.HTML object>"
      ]
     },
     "metadata": {},
     "output_type": "display_data"
    },
    {
     "data": {
      "text/html": [
       "<br>    <style><br>        .wandb-row {<br>            display: flex;<br>            flex-direction: row;<br>            flex-wrap: wrap;<br>            justify-content: flex-start;<br>            width: 100%;<br>        }<br>        .wandb-col {<br>            display: flex;<br>            flex-direction: column;<br>            flex-basis: 100%;<br>            flex: 1;<br>            padding: 10px;<br>        }<br>    </style><br><div class=\"wandb-row\"><div class=\"wandb-col\"><h3>Run history:</h3><br/><table class=\"wandb\"><tr><td>completion_tokens</td><td>▂▂▄▆▄▃▂▃▆▂▆▂▅█▅▃▃▁▂▅</td></tr><tr><td>cost</td><td>▃▂▄▇▄▄▂▄▆▃▆▂▆█▆▃▅▁▃▅</td></tr><tr><td>latency</td><td>▃▂▄█▄▃▃▃▇▂▆▃▄█▇▂▅▁▃▄</td></tr><tr><td>prompt_tokens</td><td>▃▂▃▆▃▄▃▄▄▃▄▁▄▄▆▃█▁▃▃</td></tr><tr><td>total_tokens</td><td>▃▂▄▇▄▄▂▄▆▃▆▂▆█▆▃▅▁▃▅</td></tr></table><br/></div><div class=\"wandb-col\"><h3>Run summary:</h3><br/><table class=\"wandb\"><tr><td>completion_tokens</td><td>107</td></tr><tr><td>cost</td><td>2e-05</td></tr><tr><td>latency</td><td>2.11365</td></tr><tr><td>prompt_tokens</td><td>47</td></tr><tr><td>total_tokens</td><td>154</td></tr></table><br/></div></div>"
      ],
      "text/plain": [
       "<IPython.core.display.HTML object>"
      ]
     },
     "metadata": {},
     "output_type": "display_data"
    },
    {
     "data": {
      "text/html": [
       " View run <strong style=\"color:#cdcd00\">ok-tone</strong> at: <a href='https://wandb.ai/aayush-drishte-tredence/customer-support-prompt-experiments/runs/lfbskqir' target=\"_blank\">https://wandb.ai/aayush-drishte-tredence/customer-support-prompt-experiments/runs/lfbskqir</a><br> View project at: <a href='https://wandb.ai/aayush-drishte-tredence/customer-support-prompt-experiments' target=\"_blank\">https://wandb.ai/aayush-drishte-tredence/customer-support-prompt-experiments</a><br>Synced 5 W&B file(s), 1 media file(s), 2 artifact file(s) and 0 other file(s)"
      ],
      "text/plain": [
       "<IPython.core.display.HTML object>"
      ]
     },
     "metadata": {},
     "output_type": "display_data"
    },
    {
     "data": {
      "text/html": [
       "Find logs at: <code>.\\wandb\\run-20250516_005133-lfbskqir\\logs</code>"
      ],
      "text/plain": [
       "<IPython.core.display.HTML object>"
      ]
     },
     "metadata": {},
     "output_type": "display_data"
    },
    {
     "name": "stderr",
     "output_type": "stream",
     "text": [
      " 25%|████████████████████▊                                                              | 6/24 [08:10<24:15, 80.83s/it]"
     ]
    },
    {
     "data": {
      "text/html": [
       "creating run (0.1s)"
      ],
      "text/plain": [
       "<IPython.core.display.HTML object>"
      ]
     },
     "metadata": {},
     "output_type": "display_data"
    },
    {
     "data": {
      "text/html": [
       "Tracking run with wandb version 0.19.11"
      ],
      "text/plain": [
       "<IPython.core.display.HTML object>"
      ]
     },
     "metadata": {},
     "output_type": "display_data"
    },
    {
     "data": {
      "text/html": [
       "Run data is saved locally in <code>C:\\work\\LLMOPSchatbot\\wandb\\run-20250516_005236-0j28ohal</code>"
      ],
      "text/plain": [
       "<IPython.core.display.HTML object>"
      ]
     },
     "metadata": {},
     "output_type": "display_data"
    },
    {
     "data": {
      "text/html": [
       "Syncing run <strong><a href='https://wandb.ai/aayush-drishte-tredence/customer-support-prompt-experiments/runs/0j28ohal' target=\"_blank\">good-clarity</a></strong> to <a href='https://wandb.ai/aayush-drishte-tredence/customer-support-prompt-experiments' target=\"_blank\">Weights & Biases</a> (<a href='https://wandb.me/developer-guide' target=\"_blank\">docs</a>)<br>"
      ],
      "text/plain": [
       "<IPython.core.display.HTML object>"
      ]
     },
     "metadata": {},
     "output_type": "display_data"
    },
    {
     "data": {
      "text/html": [
       " View project at <a href='https://wandb.ai/aayush-drishte-tredence/customer-support-prompt-experiments' target=\"_blank\">https://wandb.ai/aayush-drishte-tredence/customer-support-prompt-experiments</a>"
      ],
      "text/plain": [
       "<IPython.core.display.HTML object>"
      ]
     },
     "metadata": {},
     "output_type": "display_data"
    },
    {
     "data": {
      "text/html": [
       " View run at <a href='https://wandb.ai/aayush-drishte-tredence/customer-support-prompt-experiments/runs/0j28ohal' target=\"_blank\">https://wandb.ai/aayush-drishte-tredence/customer-support-prompt-experiments/runs/0j28ohal</a>"
      ],
      "text/plain": [
       "<IPython.core.display.HTML object>"
      ]
     },
     "metadata": {},
     "output_type": "display_data"
    },
    {
     "data": {
      "text/html": [],
      "text/plain": [
       "<IPython.core.display.HTML object>"
      ]
     },
     "metadata": {},
     "output_type": "display_data"
    },
    {
     "data": {
      "text/html": [
       "<br>    <style><br>        .wandb-row {<br>            display: flex;<br>            flex-direction: row;<br>            flex-wrap: wrap;<br>            justify-content: flex-start;<br>            width: 100%;<br>        }<br>        .wandb-col {<br>            display: flex;<br>            flex-direction: column;<br>            flex-basis: 100%;<br>            flex: 1;<br>            padding: 10px;<br>        }<br>    </style><br><div class=\"wandb-row\"><div class=\"wandb-col\"><h3>Run history:</h3><br/><table class=\"wandb\"><tr><td>completion_tokens</td><td>▄▁▂▆▄▁▁▃▂▄█▁▃▅▄▄▂▁▁▃</td></tr><tr><td>cost</td><td>▄▂▃▇▄▂▁▃▂▄█▁▃▆▄▄▃▁▂▃</td></tr><tr><td>latency</td><td>▃█▃▅▄▁▁▂▂▄▇▂▂▅▃▃▃▁▁▂</td></tr><tr><td>prompt_tokens</td><td>▃▂▃▆▃▄▃▄▄▃▄▁▄▄▆▃█▁▃▃</td></tr><tr><td>total_tokens</td><td>▄▂▃▇▄▂▁▃▂▄█▁▃▆▄▄▃▁▂▃</td></tr></table><br/></div><div class=\"wandb-col\"><h3>Run summary:</h3><br/><table class=\"wandb\"><tr><td>completion_tokens</td><td>107</td></tr><tr><td>cost</td><td>2e-05</td></tr><tr><td>latency</td><td>2.35062</td></tr><tr><td>prompt_tokens</td><td>53</td></tr><tr><td>total_tokens</td><td>160</td></tr></table><br/></div></div>"
      ],
      "text/plain": [
       "<IPython.core.display.HTML object>"
      ]
     },
     "metadata": {},
     "output_type": "display_data"
    },
    {
     "data": {
      "text/html": [
       " View run <strong style=\"color:#cdcd00\">good-clarity</strong> at: <a href='https://wandb.ai/aayush-drishte-tredence/customer-support-prompt-experiments/runs/0j28ohal' target=\"_blank\">https://wandb.ai/aayush-drishte-tredence/customer-support-prompt-experiments/runs/0j28ohal</a><br> View project at: <a href='https://wandb.ai/aayush-drishte-tredence/customer-support-prompt-experiments' target=\"_blank\">https://wandb.ai/aayush-drishte-tredence/customer-support-prompt-experiments</a><br>Synced 5 W&B file(s), 1 media file(s), 2 artifact file(s) and 0 other file(s)"
      ],
      "text/plain": [
       "<IPython.core.display.HTML object>"
      ]
     },
     "metadata": {},
     "output_type": "display_data"
    },
    {
     "data": {
      "text/html": [
       "Find logs at: <code>.\\wandb\\run-20250516_005236-0j28ohal\\logs</code>"
      ],
      "text/plain": [
       "<IPython.core.display.HTML object>"
      ]
     },
     "metadata": {},
     "output_type": "display_data"
    },
    {
     "name": "stderr",
     "output_type": "stream",
     "text": [
      " 29%|████████████████████████▏                                                          | 7/24 [09:32<23:01, 81.28s/it]"
     ]
    },
    {
     "data": {
      "text/html": [
       "creating run (0.3s)"
      ],
      "text/plain": [
       "<IPython.core.display.HTML object>"
      ]
     },
     "metadata": {},
     "output_type": "display_data"
    },
    {
     "data": {
      "text/html": [
       "Tracking run with wandb version 0.19.11"
      ],
      "text/plain": [
       "<IPython.core.display.HTML object>"
      ]
     },
     "metadata": {},
     "output_type": "display_data"
    },
    {
     "data": {
      "text/html": [
       "Run data is saved locally in <code>C:\\work\\LLMOPSchatbot\\wandb\\run-20250516_005358-yly112oz</code>"
      ],
      "text/plain": [
       "<IPython.core.display.HTML object>"
      ]
     },
     "metadata": {},
     "output_type": "display_data"
    },
    {
     "data": {
      "text/html": [
       "Syncing run <strong><a href='https://wandb.ai/aayush-drishte-tredence/customer-support-prompt-experiments/runs/yly112oz' target=\"_blank\">with-role</a></strong> to <a href='https://wandb.ai/aayush-drishte-tredence/customer-support-prompt-experiments' target=\"_blank\">Weights & Biases</a> (<a href='https://wandb.me/developer-guide' target=\"_blank\">docs</a>)<br>"
      ],
      "text/plain": [
       "<IPython.core.display.HTML object>"
      ]
     },
     "metadata": {},
     "output_type": "display_data"
    },
    {
     "data": {
      "text/html": [
       " View project at <a href='https://wandb.ai/aayush-drishte-tredence/customer-support-prompt-experiments' target=\"_blank\">https://wandb.ai/aayush-drishte-tredence/customer-support-prompt-experiments</a>"
      ],
      "text/plain": [
       "<IPython.core.display.HTML object>"
      ]
     },
     "metadata": {},
     "output_type": "display_data"
    },
    {
     "data": {
      "text/html": [
       " View run at <a href='https://wandb.ai/aayush-drishte-tredence/customer-support-prompt-experiments/runs/yly112oz' target=\"_blank\">https://wandb.ai/aayush-drishte-tredence/customer-support-prompt-experiments/runs/yly112oz</a>"
      ],
      "text/plain": [
       "<IPython.core.display.HTML object>"
      ]
     },
     "metadata": {},
     "output_type": "display_data"
    },
    {
     "data": {
      "text/html": [],
      "text/plain": [
       "<IPython.core.display.HTML object>"
      ]
     },
     "metadata": {},
     "output_type": "display_data"
    },
    {
     "data": {
      "text/html": [
       "<br>    <style><br>        .wandb-row {<br>            display: flex;<br>            flex-direction: row;<br>            flex-wrap: wrap;<br>            justify-content: flex-start;<br>            width: 100%;<br>        }<br>        .wandb-col {<br>            display: flex;<br>            flex-direction: column;<br>            flex-basis: 100%;<br>            flex: 1;<br>            padding: 10px;<br>        }<br>    </style><br><div class=\"wandb-row\"><div class=\"wandb-col\"><h3>Run history:</h3><br/><table class=\"wandb\"><tr><td>completion_tokens</td><td>▄▂▅▆▄▂▂▂▃▃█▁▅▆▅▄▄▁▂▄</td></tr><tr><td>cost</td><td>▄▂▅▇▅▂▂▃▃▄█▁▅▆▅▄▅▁▂▄</td></tr><tr><td>latency</td><td>▂▂▄▄▄▂▂▂▄▅▇▁█▅▃▄▃▁▂▃</td></tr><tr><td>prompt_tokens</td><td>▃▂▃▆▃▄▃▄▄▃▄▁▄▄▆▃█▁▃▃</td></tr><tr><td>total_tokens</td><td>▄▂▅▇▅▂▂▃▃▄█▁▅▆▅▄▅▁▂▄</td></tr></table><br/></div><div class=\"wandb-col\"><h3>Run summary:</h3><br/><table class=\"wandb\"><tr><td>completion_tokens</td><td>115</td></tr><tr><td>cost</td><td>3e-05</td></tr><tr><td>latency</td><td>2.68166</td></tr><tr><td>prompt_tokens</td><td>53</td></tr><tr><td>total_tokens</td><td>168</td></tr></table><br/></div></div>"
      ],
      "text/plain": [
       "<IPython.core.display.HTML object>"
      ]
     },
     "metadata": {},
     "output_type": "display_data"
    },
    {
     "data": {
      "text/html": [
       " View run <strong style=\"color:#cdcd00\">with-role</strong> at: <a href='https://wandb.ai/aayush-drishte-tredence/customer-support-prompt-experiments/runs/yly112oz' target=\"_blank\">https://wandb.ai/aayush-drishte-tredence/customer-support-prompt-experiments/runs/yly112oz</a><br> View project at: <a href='https://wandb.ai/aayush-drishte-tredence/customer-support-prompt-experiments' target=\"_blank\">https://wandb.ai/aayush-drishte-tredence/customer-support-prompt-experiments</a><br>Synced 5 W&B file(s), 1 media file(s), 2 artifact file(s) and 0 other file(s)"
      ],
      "text/plain": [
       "<IPython.core.display.HTML object>"
      ]
     },
     "metadata": {},
     "output_type": "display_data"
    },
    {
     "data": {
      "text/html": [
       "Find logs at: <code>.\\wandb\\run-20250516_005358-yly112oz\\logs</code>"
      ],
      "text/plain": [
       "<IPython.core.display.HTML object>"
      ]
     },
     "metadata": {},
     "output_type": "display_data"
    },
    {
     "name": "stderr",
     "output_type": "stream",
     "text": [
      " 33%|███████████████████████████▋                                                       | 8/24 [10:51<21:27, 80.45s/it]"
     ]
    },
    {
     "data": {
      "text/html": [
       "creating run (0.1s)"
      ],
      "text/plain": [
       "<IPython.core.display.HTML object>"
      ]
     },
     "metadata": {},
     "output_type": "display_data"
    },
    {
     "data": {
      "text/html": [
       "Tracking run with wandb version 0.19.11"
      ],
      "text/plain": [
       "<IPython.core.display.HTML object>"
      ]
     },
     "metadata": {},
     "output_type": "display_data"
    },
    {
     "data": {
      "text/html": [
       "Run data is saved locally in <code>C:\\work\\LLMOPSchatbot\\wandb\\run-20250516_005516-n09415wa</code>"
      ],
      "text/plain": [
       "<IPython.core.display.HTML object>"
      ]
     },
     "metadata": {},
     "output_type": "display_data"
    },
    {
     "data": {
      "text/html": [
       "Syncing run <strong><a href='https://wandb.ai/aayush-drishte-tredence/customer-support-prompt-experiments/runs/n09415wa' target=\"_blank\">contextualized</a></strong> to <a href='https://wandb.ai/aayush-drishte-tredence/customer-support-prompt-experiments' target=\"_blank\">Weights & Biases</a> (<a href='https://wandb.me/developer-guide' target=\"_blank\">docs</a>)<br>"
      ],
      "text/plain": [
       "<IPython.core.display.HTML object>"
      ]
     },
     "metadata": {},
     "output_type": "display_data"
    },
    {
     "data": {
      "text/html": [
       " View project at <a href='https://wandb.ai/aayush-drishte-tredence/customer-support-prompt-experiments' target=\"_blank\">https://wandb.ai/aayush-drishte-tredence/customer-support-prompt-experiments</a>"
      ],
      "text/plain": [
       "<IPython.core.display.HTML object>"
      ]
     },
     "metadata": {},
     "output_type": "display_data"
    },
    {
     "data": {
      "text/html": [
       " View run at <a href='https://wandb.ai/aayush-drishte-tredence/customer-support-prompt-experiments/runs/n09415wa' target=\"_blank\">https://wandb.ai/aayush-drishte-tredence/customer-support-prompt-experiments/runs/n09415wa</a>"
      ],
      "text/plain": [
       "<IPython.core.display.HTML object>"
      ]
     },
     "metadata": {},
     "output_type": "display_data"
    },
    {
     "data": {
      "text/html": [],
      "text/plain": [
       "<IPython.core.display.HTML object>"
      ]
     },
     "metadata": {},
     "output_type": "display_data"
    },
    {
     "data": {
      "text/html": [
       "<br>    <style><br>        .wandb-row {<br>            display: flex;<br>            flex-direction: row;<br>            flex-wrap: wrap;<br>            justify-content: flex-start;<br>            width: 100%;<br>        }<br>        .wandb-col {<br>            display: flex;<br>            flex-direction: column;<br>            flex-basis: 100%;<br>            flex: 1;<br>            padding: 10px;<br>        }<br>    </style><br><div class=\"wandb-row\"><div class=\"wandb-col\"><h3>Run history:</h3><br/><table class=\"wandb\"><tr><td>completion_tokens</td><td>▄▂▄█▅▂▁▂▂▅▇▁▄▇▅▃▃▁▁▃</td></tr><tr><td>cost</td><td>▄▂▄█▅▂▁▂▂▅▇▁▄▇▅▄▄▁▁▃</td></tr><tr><td>latency</td><td>▅▂▄█▆▂▁▂▂▄█▁▅▇▅▄▃▁▁▃</td></tr><tr><td>prompt_tokens</td><td>▃▂▃▆▃▄▃▄▄▃▄▁▄▄▆▃█▁▃▃</td></tr><tr><td>total_tokens</td><td>▄▂▄█▅▂▁▂▂▅▇▁▄▇▅▄▄▁▁▃</td></tr></table><br/></div><div class=\"wandb-col\"><h3>Run summary:</h3><br/><table class=\"wandb\"><tr><td>completion_tokens</td><td>104</td></tr><tr><td>cost</td><td>2e-05</td></tr><tr><td>latency</td><td>2.44091</td></tr><tr><td>prompt_tokens</td><td>57</td></tr><tr><td>total_tokens</td><td>161</td></tr></table><br/></div></div>"
      ],
      "text/plain": [
       "<IPython.core.display.HTML object>"
      ]
     },
     "metadata": {},
     "output_type": "display_data"
    },
    {
     "data": {
      "text/html": [
       " View run <strong style=\"color:#cdcd00\">contextualized</strong> at: <a href='https://wandb.ai/aayush-drishte-tredence/customer-support-prompt-experiments/runs/n09415wa' target=\"_blank\">https://wandb.ai/aayush-drishte-tredence/customer-support-prompt-experiments/runs/n09415wa</a><br> View project at: <a href='https://wandb.ai/aayush-drishte-tredence/customer-support-prompt-experiments' target=\"_blank\">https://wandb.ai/aayush-drishte-tredence/customer-support-prompt-experiments</a><br>Synced 5 W&B file(s), 1 media file(s), 2 artifact file(s) and 0 other file(s)"
      ],
      "text/plain": [
       "<IPython.core.display.HTML object>"
      ]
     },
     "metadata": {},
     "output_type": "display_data"
    },
    {
     "data": {
      "text/html": [
       "Find logs at: <code>.\\wandb\\run-20250516_005516-n09415wa\\logs</code>"
      ],
      "text/plain": [
       "<IPython.core.display.HTML object>"
      ]
     },
     "metadata": {},
     "output_type": "display_data"
    },
    {
     "name": "stderr",
     "output_type": "stream",
     "text": [
      " 38%|███████████████████████████████▏                                                   | 9/24 [12:06<19:41, 78.79s/it]"
     ]
    },
    {
     "data": {
      "text/html": [
       "Waiting for wandb.init()..."
      ],
      "text/plain": [
       "<IPython.core.display.HTML object>"
      ]
     },
     "metadata": {},
     "output_type": "display_data"
    },
    {
     "data": {
      "text/html": [
       "Tracking run with wandb version 0.19.11"
      ],
      "text/plain": [
       "<IPython.core.display.HTML object>"
      ]
     },
     "metadata": {},
     "output_type": "display_data"
    },
    {
     "data": {
      "text/html": [
       "Run data is saved locally in <code>C:\\work\\LLMOPSchatbot\\wandb\\run-20250516_005632-h28n6flm</code>"
      ],
      "text/plain": [
       "<IPython.core.display.HTML object>"
      ]
     },
     "metadata": {},
     "output_type": "display_data"
    },
    {
     "data": {
      "text/html": [
       "Syncing run <strong><a href='https://wandb.ai/aayush-drishte-tredence/customer-support-prompt-experiments/runs/h28n6flm' target=\"_blank\">tone-aware</a></strong> to <a href='https://wandb.ai/aayush-drishte-tredence/customer-support-prompt-experiments' target=\"_blank\">Weights & Biases</a> (<a href='https://wandb.me/developer-guide' target=\"_blank\">docs</a>)<br>"
      ],
      "text/plain": [
       "<IPython.core.display.HTML object>"
      ]
     },
     "metadata": {},
     "output_type": "display_data"
    },
    {
     "data": {
      "text/html": [
       " View project at <a href='https://wandb.ai/aayush-drishte-tredence/customer-support-prompt-experiments' target=\"_blank\">https://wandb.ai/aayush-drishte-tredence/customer-support-prompt-experiments</a>"
      ],
      "text/plain": [
       "<IPython.core.display.HTML object>"
      ]
     },
     "metadata": {},
     "output_type": "display_data"
    },
    {
     "data": {
      "text/html": [
       " View run at <a href='https://wandb.ai/aayush-drishte-tredence/customer-support-prompt-experiments/runs/h28n6flm' target=\"_blank\">https://wandb.ai/aayush-drishte-tredence/customer-support-prompt-experiments/runs/h28n6flm</a>"
      ],
      "text/plain": [
       "<IPython.core.display.HTML object>"
      ]
     },
     "metadata": {},
     "output_type": "display_data"
    },
    {
     "data": {
      "text/html": [],
      "text/plain": [
       "<IPython.core.display.HTML object>"
      ]
     },
     "metadata": {},
     "output_type": "display_data"
    },
    {
     "data": {
      "text/html": [
       "<br>    <style><br>        .wandb-row {<br>            display: flex;<br>            flex-direction: row;<br>            flex-wrap: wrap;<br>            justify-content: flex-start;<br>            width: 100%;<br>        }<br>        .wandb-col {<br>            display: flex;<br>            flex-direction: column;<br>            flex-basis: 100%;<br>            flex: 1;<br>            padding: 10px;<br>        }<br>    </style><br><div class=\"wandb-row\"><div class=\"wandb-col\"><h3>Run history:</h3><br/><table class=\"wandb\"><tr><td>completion_tokens</td><td>▃▂▃█▆▂▂▂▃▆▇▁▃▃▃▃▆▁▁▃</td></tr><tr><td>cost</td><td>▃▂▃█▆▃▂▃▃▆▇▁▄▃▄▃▇▁▂▃</td></tr><tr><td>latency</td><td>▂▂▃▄▃▂▂▃▃▄█▁▂▂▂▂▁▁▁▂</td></tr><tr><td>prompt_tokens</td><td>▃▂▃▆▃▄▃▄▄▃▄▁▄▄▆▃█▁▃▃</td></tr><tr><td>total_tokens</td><td>▃▂▃█▆▃▂▃▃▆▇▁▄▃▄▃▇▁▂▃</td></tr></table><br/></div><div class=\"wandb-col\"><h3>Run summary:</h3><br/><table class=\"wandb\"><tr><td>completion_tokens</td><td>100</td></tr><tr><td>cost</td><td>2e-05</td></tr><tr><td>latency</td><td>2.41638</td></tr><tr><td>prompt_tokens</td><td>52</td></tr><tr><td>total_tokens</td><td>152</td></tr></table><br/></div></div>"
      ],
      "text/plain": [
       "<IPython.core.display.HTML object>"
      ]
     },
     "metadata": {},
     "output_type": "display_data"
    },
    {
     "data": {
      "text/html": [
       " View run <strong style=\"color:#cdcd00\">tone-aware</strong> at: <a href='https://wandb.ai/aayush-drishte-tredence/customer-support-prompt-experiments/runs/h28n6flm' target=\"_blank\">https://wandb.ai/aayush-drishte-tredence/customer-support-prompt-experiments/runs/h28n6flm</a><br> View project at: <a href='https://wandb.ai/aayush-drishte-tredence/customer-support-prompt-experiments' target=\"_blank\">https://wandb.ai/aayush-drishte-tredence/customer-support-prompt-experiments</a><br>Synced 5 W&B file(s), 1 media file(s), 2 artifact file(s) and 0 other file(s)"
      ],
      "text/plain": [
       "<IPython.core.display.HTML object>"
      ]
     },
     "metadata": {},
     "output_type": "display_data"
    },
    {
     "data": {
      "text/html": [
       "Find logs at: <code>.\\wandb\\run-20250516_005632-h28n6flm\\logs</code>"
      ],
      "text/plain": [
       "<IPython.core.display.HTML object>"
      ]
     },
     "metadata": {},
     "output_type": "display_data"
    },
    {
     "name": "stderr",
     "output_type": "stream",
     "text": [
      " 42%|██████████████████████████████████▏                                               | 10/24 [13:16<17:42, 75.88s/it]"
     ]
    },
    {
     "data": {
      "text/html": [
       "creating run (0.1s)"
      ],
      "text/plain": [
       "<IPython.core.display.HTML object>"
      ]
     },
     "metadata": {},
     "output_type": "display_data"
    },
    {
     "data": {
      "text/html": [
       "Tracking run with wandb version 0.19.11"
      ],
      "text/plain": [
       "<IPython.core.display.HTML object>"
      ]
     },
     "metadata": {},
     "output_type": "display_data"
    },
    {
     "data": {
      "text/html": [
       "Run data is saved locally in <code>C:\\work\\LLMOPSchatbot\\wandb\\run-20250516_005741-1o0yri5v</code>"
      ],
      "text/plain": [
       "<IPython.core.display.HTML object>"
      ]
     },
     "metadata": {},
     "output_type": "display_data"
    },
    {
     "data": {
      "text/html": [
       "Syncing run <strong><a href='https://wandb.ai/aayush-drishte-tredence/customer-support-prompt-experiments/runs/1o0yri5v' target=\"_blank\">context-tone</a></strong> to <a href='https://wandb.ai/aayush-drishte-tredence/customer-support-prompt-experiments' target=\"_blank\">Weights & Biases</a> (<a href='https://wandb.me/developer-guide' target=\"_blank\">docs</a>)<br>"
      ],
      "text/plain": [
       "<IPython.core.display.HTML object>"
      ]
     },
     "metadata": {},
     "output_type": "display_data"
    },
    {
     "data": {
      "text/html": [
       " View project at <a href='https://wandb.ai/aayush-drishte-tredence/customer-support-prompt-experiments' target=\"_blank\">https://wandb.ai/aayush-drishte-tredence/customer-support-prompt-experiments</a>"
      ],
      "text/plain": [
       "<IPython.core.display.HTML object>"
      ]
     },
     "metadata": {},
     "output_type": "display_data"
    },
    {
     "data": {
      "text/html": [
       " View run at <a href='https://wandb.ai/aayush-drishte-tredence/customer-support-prompt-experiments/runs/1o0yri5v' target=\"_blank\">https://wandb.ai/aayush-drishte-tredence/customer-support-prompt-experiments/runs/1o0yri5v</a>"
      ],
      "text/plain": [
       "<IPython.core.display.HTML object>"
      ]
     },
     "metadata": {},
     "output_type": "display_data"
    },
    {
     "data": {
      "text/html": [],
      "text/plain": [
       "<IPython.core.display.HTML object>"
      ]
     },
     "metadata": {},
     "output_type": "display_data"
    },
    {
     "data": {
      "text/html": [
       "<br>    <style><br>        .wandb-row {<br>            display: flex;<br>            flex-direction: row;<br>            flex-wrap: wrap;<br>            justify-content: flex-start;<br>            width: 100%;<br>        }<br>        .wandb-col {<br>            display: flex;<br>            flex-direction: column;<br>            flex-basis: 100%;<br>            flex: 1;<br>            padding: 10px;<br>        }<br>    </style><br><div class=\"wandb-row\"><div class=\"wandb-col\"><h3>Run history:</h3><br/><table class=\"wandb\"><tr><td>completion_tokens</td><td>▄▂▄█▄▂▁▂▂▄█▁▄▄▄▄▄▁▂▃</td></tr><tr><td>cost</td><td>▄▂▄█▄▂▁▂▂▄▇▁▅▄▄▄▄▁▂▃</td></tr><tr><td>latency</td><td>▅▂▄▇▄▂▁▂▃▄█▂▄▄▃▄▄▁▂▃</td></tr><tr><td>prompt_tokens</td><td>▃▂▃▆▃▄▃▄▄▃▄▁▄▄▆▃█▁▃▃</td></tr><tr><td>total_tokens</td><td>▄▂▄█▄▂▁▂▂▄▇▁▅▄▄▄▄▁▂▃</td></tr></table><br/></div><div class=\"wandb-col\"><h3>Run summary:</h3><br/><table class=\"wandb\"><tr><td>completion_tokens</td><td>128</td></tr><tr><td>cost</td><td>3e-05</td></tr><tr><td>latency</td><td>2.78043</td></tr><tr><td>prompt_tokens</td><td>56</td></tr><tr><td>total_tokens</td><td>184</td></tr></table><br/></div></div>"
      ],
      "text/plain": [
       "<IPython.core.display.HTML object>"
      ]
     },
     "metadata": {},
     "output_type": "display_data"
    },
    {
     "data": {
      "text/html": [
       " View run <strong style=\"color:#cdcd00\">context-tone</strong> at: <a href='https://wandb.ai/aayush-drishte-tredence/customer-support-prompt-experiments/runs/1o0yri5v' target=\"_blank\">https://wandb.ai/aayush-drishte-tredence/customer-support-prompt-experiments/runs/1o0yri5v</a><br> View project at: <a href='https://wandb.ai/aayush-drishte-tredence/customer-support-prompt-experiments' target=\"_blank\">https://wandb.ai/aayush-drishte-tredence/customer-support-prompt-experiments</a><br>Synced 5 W&B file(s), 1 media file(s), 2 artifact file(s) and 0 other file(s)"
      ],
      "text/plain": [
       "<IPython.core.display.HTML object>"
      ]
     },
     "metadata": {},
     "output_type": "display_data"
    },
    {
     "data": {
      "text/html": [
       "Find logs at: <code>.\\wandb\\run-20250516_005741-1o0yri5v\\logs</code>"
      ],
      "text/plain": [
       "<IPython.core.display.HTML object>"
      ]
     },
     "metadata": {},
     "output_type": "display_data"
    },
    {
     "name": "stderr",
     "output_type": "stream",
     "text": [
      " 46%|█████████████████████████████████████▌                                            | 11/24 [14:41<17:03, 78.71s/it]"
     ]
    },
    {
     "data": {
      "text/html": [
       "creating run (0.1s)"
      ],
      "text/plain": [
       "<IPython.core.display.HTML object>"
      ]
     },
     "metadata": {},
     "output_type": "display_data"
    },
    {
     "data": {
      "text/html": [
       "Tracking run with wandb version 0.19.11"
      ],
      "text/plain": [
       "<IPython.core.display.HTML object>"
      ]
     },
     "metadata": {},
     "output_type": "display_data"
    },
    {
     "data": {
      "text/html": [
       "Run data is saved locally in <code>C:\\work\\LLMOPSchatbot\\wandb\\run-20250516_005906-abrw61t3</code>"
      ],
      "text/plain": [
       "<IPython.core.display.HTML object>"
      ]
     },
     "metadata": {},
     "output_type": "display_data"
    },
    {
     "data": {
      "text/html": [
       "Syncing run <strong><a href='https://wandb.ai/aayush-drishte-tredence/customer-support-prompt-experiments/runs/abrw61t3' target=\"_blank\">product-aware</a></strong> to <a href='https://wandb.ai/aayush-drishte-tredence/customer-support-prompt-experiments' target=\"_blank\">Weights & Biases</a> (<a href='https://wandb.me/developer-guide' target=\"_blank\">docs</a>)<br>"
      ],
      "text/plain": [
       "<IPython.core.display.HTML object>"
      ]
     },
     "metadata": {},
     "output_type": "display_data"
    },
    {
     "data": {
      "text/html": [
       " View project at <a href='https://wandb.ai/aayush-drishte-tredence/customer-support-prompt-experiments' target=\"_blank\">https://wandb.ai/aayush-drishte-tredence/customer-support-prompt-experiments</a>"
      ],
      "text/plain": [
       "<IPython.core.display.HTML object>"
      ]
     },
     "metadata": {},
     "output_type": "display_data"
    },
    {
     "data": {
      "text/html": [
       " View run at <a href='https://wandb.ai/aayush-drishte-tredence/customer-support-prompt-experiments/runs/abrw61t3' target=\"_blank\">https://wandb.ai/aayush-drishte-tredence/customer-support-prompt-experiments/runs/abrw61t3</a>"
      ],
      "text/plain": [
       "<IPython.core.display.HTML object>"
      ]
     },
     "metadata": {},
     "output_type": "display_data"
    },
    {
     "data": {
      "text/html": [],
      "text/plain": [
       "<IPython.core.display.HTML object>"
      ]
     },
     "metadata": {},
     "output_type": "display_data"
    },
    {
     "data": {
      "text/html": [
       "<br>    <style><br>        .wandb-row {<br>            display: flex;<br>            flex-direction: row;<br>            flex-wrap: wrap;<br>            justify-content: flex-start;<br>            width: 100%;<br>        }<br>        .wandb-col {<br>            display: flex;<br>            flex-direction: column;<br>            flex-basis: 100%;<br>            flex: 1;<br>            padding: 10px;<br>        }<br>    </style><br><div class=\"wandb-row\"><div class=\"wandb-col\"><h3>Run history:</h3><br/><table class=\"wandb\"><tr><td>completion_tokens</td><td>▃▂▄█▅▃▂▂▃▄▆▁▃▆▄▃▆▂▂▄</td></tr><tr><td>cost</td><td>▃▂▄█▅▃▂▃▃▄▆▁▃▆▄▃▆▂▂▄</td></tr><tr><td>latency</td><td>▃▂▃▅▃▂▁▃▂▃▃▁▃▅▂▄█▂▃▂</td></tr><tr><td>prompt_tokens</td><td>▃▂▃▆▃▄▃▄▄▃▄▁▄▄▆▃█▁▃▃</td></tr><tr><td>total_tokens</td><td>▃▂▄█▅▃▂▃▃▄▆▁▃▆▄▃▆▂▂▄</td></tr></table><br/></div><div class=\"wandb-col\"><h3>Run summary:</h3><br/><table class=\"wandb\"><tr><td>completion_tokens</td><td>121</td></tr><tr><td>cost</td><td>3e-05</td></tr><tr><td>latency</td><td>2.47914</td></tr><tr><td>prompt_tokens</td><td>56</td></tr><tr><td>total_tokens</td><td>177</td></tr></table><br/></div></div>"
      ],
      "text/plain": [
       "<IPython.core.display.HTML object>"
      ]
     },
     "metadata": {},
     "output_type": "display_data"
    },
    {
     "data": {
      "text/html": [
       " View run <strong style=\"color:#cdcd00\">product-aware</strong> at: <a href='https://wandb.ai/aayush-drishte-tredence/customer-support-prompt-experiments/runs/abrw61t3' target=\"_blank\">https://wandb.ai/aayush-drishte-tredence/customer-support-prompt-experiments/runs/abrw61t3</a><br> View project at: <a href='https://wandb.ai/aayush-drishte-tredence/customer-support-prompt-experiments' target=\"_blank\">https://wandb.ai/aayush-drishte-tredence/customer-support-prompt-experiments</a><br>Synced 5 W&B file(s), 1 media file(s), 2 artifact file(s) and 0 other file(s)"
      ],
      "text/plain": [
       "<IPython.core.display.HTML object>"
      ]
     },
     "metadata": {},
     "output_type": "display_data"
    },
    {
     "data": {
      "text/html": [
       "Find logs at: <code>.\\wandb\\run-20250516_005906-abrw61t3\\logs</code>"
      ],
      "text/plain": [
       "<IPython.core.display.HTML object>"
      ]
     },
     "metadata": {},
     "output_type": "display_data"
    },
    {
     "name": "stderr",
     "output_type": "stream",
     "text": [
      " 50%|█████████████████████████████████████████                                         | 12/24 [15:59<15:41, 78.47s/it]"
     ]
    },
    {
     "data": {
      "text/html": [
       "creating run (0.0s)"
      ],
      "text/plain": [
       "<IPython.core.display.HTML object>"
      ]
     },
     "metadata": {},
     "output_type": "display_data"
    },
    {
     "data": {
      "text/html": [
       "Tracking run with wandb version 0.19.11"
      ],
      "text/plain": [
       "<IPython.core.display.HTML object>"
      ]
     },
     "metadata": {},
     "output_type": "display_data"
    },
    {
     "data": {
      "text/html": [
       "Run data is saved locally in <code>C:\\work\\LLMOPSchatbot\\wandb\\run-20250516_010024-t9t5xhwx</code>"
      ],
      "text/plain": [
       "<IPython.core.display.HTML object>"
      ]
     },
     "metadata": {},
     "output_type": "display_data"
    },
    {
     "data": {
      "text/html": [
       "Syncing run <strong><a href='https://wandb.ai/aayush-drishte-tredence/customer-support-prompt-experiments/runs/t9t5xhwx' target=\"_blank\">task-aware</a></strong> to <a href='https://wandb.ai/aayush-drishte-tredence/customer-support-prompt-experiments' target=\"_blank\">Weights & Biases</a> (<a href='https://wandb.me/developer-guide' target=\"_blank\">docs</a>)<br>"
      ],
      "text/plain": [
       "<IPython.core.display.HTML object>"
      ]
     },
     "metadata": {},
     "output_type": "display_data"
    },
    {
     "data": {
      "text/html": [
       " View project at <a href='https://wandb.ai/aayush-drishte-tredence/customer-support-prompt-experiments' target=\"_blank\">https://wandb.ai/aayush-drishte-tredence/customer-support-prompt-experiments</a>"
      ],
      "text/plain": [
       "<IPython.core.display.HTML object>"
      ]
     },
     "metadata": {},
     "output_type": "display_data"
    },
    {
     "data": {
      "text/html": [
       " View run at <a href='https://wandb.ai/aayush-drishte-tredence/customer-support-prompt-experiments/runs/t9t5xhwx' target=\"_blank\">https://wandb.ai/aayush-drishte-tredence/customer-support-prompt-experiments/runs/t9t5xhwx</a>"
      ],
      "text/plain": [
       "<IPython.core.display.HTML object>"
      ]
     },
     "metadata": {},
     "output_type": "display_data"
    },
    {
     "data": {
      "text/html": [],
      "text/plain": [
       "<IPython.core.display.HTML object>"
      ]
     },
     "metadata": {},
     "output_type": "display_data"
    },
    {
     "data": {
      "text/html": [
       "<br>    <style><br>        .wandb-row {<br>            display: flex;<br>            flex-direction: row;<br>            flex-wrap: wrap;<br>            justify-content: flex-start;<br>            width: 100%;<br>        }<br>        .wandb-col {<br>            display: flex;<br>            flex-direction: column;<br>            flex-basis: 100%;<br>            flex: 1;<br>            padding: 10px;<br>        }<br>    </style><br><div class=\"wandb-row\"><div class=\"wandb-col\"><h3>Run history:</h3><br/><table class=\"wandb\"><tr><td>completion_tokens</td><td>▄▁▄█▅▃▁▃▂▄▆▁▅▇▅▄▃▁▁▅</td></tr><tr><td>cost</td><td>▄▁▄█▅▃▂▃▂▄▆▁▅▆▅▄▄▁▁▅</td></tr><tr><td>latency</td><td>▅▁▅█▄▃▂▂▂▅█▁▆▆▃▄▃▁▂▇</td></tr><tr><td>prompt_tokens</td><td>▃▂▃▆▃▄▃▄▄▃▄▁▄▄▆▃█▁▃▃</td></tr><tr><td>total_tokens</td><td>▄▁▄█▅▃▂▃▂▄▆▁▅▆▅▄▄▁▁▅</td></tr></table><br/></div><div class=\"wandb-col\"><h3>Run summary:</h3><br/><table class=\"wandb\"><tr><td>completion_tokens</td><td>216</td></tr><tr><td>cost</td><td>4e-05</td></tr><tr><td>latency</td><td>5.7304</td></tr><tr><td>prompt_tokens</td><td>58</td></tr><tr><td>total_tokens</td><td>274</td></tr></table><br/></div></div>"
      ],
      "text/plain": [
       "<IPython.core.display.HTML object>"
      ]
     },
     "metadata": {},
     "output_type": "display_data"
    },
    {
     "data": {
      "text/html": [
       " View run <strong style=\"color:#cdcd00\">task-aware</strong> at: <a href='https://wandb.ai/aayush-drishte-tredence/customer-support-prompt-experiments/runs/t9t5xhwx' target=\"_blank\">https://wandb.ai/aayush-drishte-tredence/customer-support-prompt-experiments/runs/t9t5xhwx</a><br> View project at: <a href='https://wandb.ai/aayush-drishte-tredence/customer-support-prompt-experiments' target=\"_blank\">https://wandb.ai/aayush-drishte-tredence/customer-support-prompt-experiments</a><br>Synced 5 W&B file(s), 1 media file(s), 2 artifact file(s) and 0 other file(s)"
      ],
      "text/plain": [
       "<IPython.core.display.HTML object>"
      ]
     },
     "metadata": {},
     "output_type": "display_data"
    },
    {
     "data": {
      "text/html": [
       "Find logs at: <code>.\\wandb\\run-20250516_010024-t9t5xhwx\\logs</code>"
      ],
      "text/plain": [
       "<IPython.core.display.HTML object>"
      ]
     },
     "metadata": {},
     "output_type": "display_data"
    },
    {
     "name": "stderr",
     "output_type": "stream",
     "text": [
      " 54%|████████████████████████████████████████████▍                                     | 13/24 [17:27<14:56, 81.52s/it]"
     ]
    },
    {
     "data": {
      "text/html": [
       "creating run (0.1s)"
      ],
      "text/plain": [
       "<IPython.core.display.HTML object>"
      ]
     },
     "metadata": {},
     "output_type": "display_data"
    },
    {
     "data": {
      "text/html": [
       "Tracking run with wandb version 0.19.11"
      ],
      "text/plain": [
       "<IPython.core.display.HTML object>"
      ]
     },
     "metadata": {},
     "output_type": "display_data"
    },
    {
     "data": {
      "text/html": [
       "Run data is saved locally in <code>C:\\work\\LLMOPSchatbot\\wandb\\run-20250516_010152-uc79ylwn</code>"
      ],
      "text/plain": [
       "<IPython.core.display.HTML object>"
      ]
     },
     "metadata": {},
     "output_type": "display_data"
    },
    {
     "data": {
      "text/html": [
       "Syncing run <strong><a href='https://wandb.ai/aayush-drishte-tredence/customer-support-prompt-experiments/runs/uc79ylwn' target=\"_blank\">persona-aware</a></strong> to <a href='https://wandb.ai/aayush-drishte-tredence/customer-support-prompt-experiments' target=\"_blank\">Weights & Biases</a> (<a href='https://wandb.me/developer-guide' target=\"_blank\">docs</a>)<br>"
      ],
      "text/plain": [
       "<IPython.core.display.HTML object>"
      ]
     },
     "metadata": {},
     "output_type": "display_data"
    },
    {
     "data": {
      "text/html": [
       " View project at <a href='https://wandb.ai/aayush-drishte-tredence/customer-support-prompt-experiments' target=\"_blank\">https://wandb.ai/aayush-drishte-tredence/customer-support-prompt-experiments</a>"
      ],
      "text/plain": [
       "<IPython.core.display.HTML object>"
      ]
     },
     "metadata": {},
     "output_type": "display_data"
    },
    {
     "data": {
      "text/html": [
       " View run at <a href='https://wandb.ai/aayush-drishte-tredence/customer-support-prompt-experiments/runs/uc79ylwn' target=\"_blank\">https://wandb.ai/aayush-drishte-tredence/customer-support-prompt-experiments/runs/uc79ylwn</a>"
      ],
      "text/plain": [
       "<IPython.core.display.HTML object>"
      ]
     },
     "metadata": {},
     "output_type": "display_data"
    },
    {
     "data": {
      "text/html": [],
      "text/plain": [
       "<IPython.core.display.HTML object>"
      ]
     },
     "metadata": {},
     "output_type": "display_data"
    },
    {
     "data": {
      "text/html": [
       "<br>    <style><br>        .wandb-row {<br>            display: flex;<br>            flex-direction: row;<br>            flex-wrap: wrap;<br>            justify-content: flex-start;<br>            width: 100%;<br>        }<br>        .wandb-col {<br>            display: flex;<br>            flex-direction: column;<br>            flex-basis: 100%;<br>            flex: 1;<br>            padding: 10px;<br>        }<br>    </style><br><div class=\"wandb-row\"><div class=\"wandb-col\"><h3>Run history:</h3><br/><table class=\"wandb\"><tr><td>completion_tokens</td><td>▃▂▃█▅▂▂▂▃▃▇▁▄▆▂▃▄▁▂▃</td></tr><tr><td>cost</td><td>▃▂▃█▅▂▂▃▃▃▇▁▅▆▃▃▅▁▂▃</td></tr><tr><td>latency</td><td>▄▂▄█▇▃▂▆▃▄█▁▄▆▃▄▄▁▂▃</td></tr><tr><td>prompt_tokens</td><td>▃▂▃▆▃▄▃▄▄▃▄▁▄▄▆▃█▁▃▃</td></tr><tr><td>total_tokens</td><td>▃▂▃█▅▂▂▃▃▃▇▁▅▆▃▃▅▁▂▃</td></tr></table><br/></div><div class=\"wandb-col\"><h3>Run summary:</h3><br/><table class=\"wandb\"><tr><td>completion_tokens</td><td>95</td></tr><tr><td>cost</td><td>2e-05</td></tr><tr><td>latency</td><td>2.21271</td></tr><tr><td>prompt_tokens</td><td>51</td></tr><tr><td>total_tokens</td><td>146</td></tr></table><br/></div></div>"
      ],
      "text/plain": [
       "<IPython.core.display.HTML object>"
      ]
     },
     "metadata": {},
     "output_type": "display_data"
    },
    {
     "data": {
      "text/html": [
       " View run <strong style=\"color:#cdcd00\">persona-aware</strong> at: <a href='https://wandb.ai/aayush-drishte-tredence/customer-support-prompt-experiments/runs/uc79ylwn' target=\"_blank\">https://wandb.ai/aayush-drishte-tredence/customer-support-prompt-experiments/runs/uc79ylwn</a><br> View project at: <a href='https://wandb.ai/aayush-drishte-tredence/customer-support-prompt-experiments' target=\"_blank\">https://wandb.ai/aayush-drishte-tredence/customer-support-prompt-experiments</a><br>Synced 5 W&B file(s), 1 media file(s), 2 artifact file(s) and 0 other file(s)"
      ],
      "text/plain": [
       "<IPython.core.display.HTML object>"
      ]
     },
     "metadata": {},
     "output_type": "display_data"
    },
    {
     "data": {
      "text/html": [
       "Find logs at: <code>.\\wandb\\run-20250516_010152-uc79ylwn\\logs</code>"
      ],
      "text/plain": [
       "<IPython.core.display.HTML object>"
      ]
     },
     "metadata": {},
     "output_type": "display_data"
    },
    {
     "name": "stderr",
     "output_type": "stream",
     "text": [
      " 58%|███████████████████████████████████████████████▊                                  | 14/24 [18:39<13:06, 78.66s/it]"
     ]
    },
    {
     "data": {
      "text/html": [
       "creating run (0.1s)"
      ],
      "text/plain": [
       "<IPython.core.display.HTML object>"
      ]
     },
     "metadata": {},
     "output_type": "display_data"
    },
    {
     "data": {
      "text/html": [
       "Tracking run with wandb version 0.19.11"
      ],
      "text/plain": [
       "<IPython.core.display.HTML object>"
      ]
     },
     "metadata": {},
     "output_type": "display_data"
    },
    {
     "data": {
      "text/html": [
       "Run data is saved locally in <code>C:\\work\\LLMOPSchatbot\\wandb\\run-20250516_010305-5g721ub6</code>"
      ],
      "text/plain": [
       "<IPython.core.display.HTML object>"
      ]
     },
     "metadata": {},
     "output_type": "display_data"
    },
    {
     "data": {
      "text/html": [
       "Syncing run <strong><a href='https://wandb.ai/aayush-drishte-tredence/customer-support-prompt-experiments/runs/5g721ub6' target=\"_blank\">rich-context</a></strong> to <a href='https://wandb.ai/aayush-drishte-tredence/customer-support-prompt-experiments' target=\"_blank\">Weights & Biases</a> (<a href='https://wandb.me/developer-guide' target=\"_blank\">docs</a>)<br>"
      ],
      "text/plain": [
       "<IPython.core.display.HTML object>"
      ]
     },
     "metadata": {},
     "output_type": "display_data"
    },
    {
     "data": {
      "text/html": [
       " View project at <a href='https://wandb.ai/aayush-drishte-tredence/customer-support-prompt-experiments' target=\"_blank\">https://wandb.ai/aayush-drishte-tredence/customer-support-prompt-experiments</a>"
      ],
      "text/plain": [
       "<IPython.core.display.HTML object>"
      ]
     },
     "metadata": {},
     "output_type": "display_data"
    },
    {
     "data": {
      "text/html": [
       " View run at <a href='https://wandb.ai/aayush-drishte-tredence/customer-support-prompt-experiments/runs/5g721ub6' target=\"_blank\">https://wandb.ai/aayush-drishte-tredence/customer-support-prompt-experiments/runs/5g721ub6</a>"
      ],
      "text/plain": [
       "<IPython.core.display.HTML object>"
      ]
     },
     "metadata": {},
     "output_type": "display_data"
    },
    {
     "data": {
      "text/html": [],
      "text/plain": [
       "<IPython.core.display.HTML object>"
      ]
     },
     "metadata": {},
     "output_type": "display_data"
    },
    {
     "data": {
      "text/html": [
       "<br>    <style><br>        .wandb-row {<br>            display: flex;<br>            flex-direction: row;<br>            flex-wrap: wrap;<br>            justify-content: flex-start;<br>            width: 100%;<br>        }<br>        .wandb-col {<br>            display: flex;<br>            flex-direction: column;<br>            flex-basis: 100%;<br>            flex: 1;<br>            padding: 10px;<br>        }<br>    </style><br><div class=\"wandb-row\"><div class=\"wandb-col\"><h3>Run history:</h3><br/><table class=\"wandb\"><tr><td>completion_tokens</td><td>▄▂▃█▆▂▂▂▄▃▄▁▅▄▆▃▃▂▂▃</td></tr><tr><td>cost</td><td>▄▂▃█▆▃▂▂▄▃▄▁▅▄▆▃▄▁▂▃</td></tr><tr><td>latency</td><td>▅▂▄▆█▂▂▂▃▁▆▂▅▃▃▁▁▂▁▃</td></tr><tr><td>prompt_tokens</td><td>▃▂▃▆▃▄▃▄▄▃▄▁▄▄▆▃█▁▃▃</td></tr><tr><td>total_tokens</td><td>▄▂▃█▆▃▂▂▄▃▄▁▅▄▆▃▄▁▂▃</td></tr></table><br/></div><div class=\"wandb-col\"><h3>Run summary:</h3><br/><table class=\"wandb\"><tr><td>completion_tokens</td><td>110</td></tr><tr><td>cost</td><td>3e-05</td></tr><tr><td>latency</td><td>2.42585</td></tr><tr><td>prompt_tokens</td><td>58</td></tr><tr><td>total_tokens</td><td>168</td></tr></table><br/></div></div>"
      ],
      "text/plain": [
       "<IPython.core.display.HTML object>"
      ]
     },
     "metadata": {},
     "output_type": "display_data"
    },
    {
     "data": {
      "text/html": [
       " View run <strong style=\"color:#cdcd00\">rich-context</strong> at: <a href='https://wandb.ai/aayush-drishte-tredence/customer-support-prompt-experiments/runs/5g721ub6' target=\"_blank\">https://wandb.ai/aayush-drishte-tredence/customer-support-prompt-experiments/runs/5g721ub6</a><br> View project at: <a href='https://wandb.ai/aayush-drishte-tredence/customer-support-prompt-experiments' target=\"_blank\">https://wandb.ai/aayush-drishte-tredence/customer-support-prompt-experiments</a><br>Synced 5 W&B file(s), 1 media file(s), 2 artifact file(s) and 0 other file(s)"
      ],
      "text/plain": [
       "<IPython.core.display.HTML object>"
      ]
     },
     "metadata": {},
     "output_type": "display_data"
    },
    {
     "data": {
      "text/html": [
       "Find logs at: <code>.\\wandb\\run-20250516_010305-5g721ub6\\logs</code>"
      ],
      "text/plain": [
       "<IPython.core.display.HTML object>"
      ]
     },
     "metadata": {},
     "output_type": "display_data"
    },
    {
     "name": "stderr",
     "output_type": "stream",
     "text": [
      " 62%|███████████████████████████████████████████████████▎                              | 15/24 [19:45<11:13, 74.87s/it]"
     ]
    },
    {
     "data": {
      "text/html": [
       "creating run (0.1s)"
      ],
      "text/plain": [
       "<IPython.core.display.HTML object>"
      ]
     },
     "metadata": {},
     "output_type": "display_data"
    },
    {
     "data": {
      "text/html": [
       "Tracking run with wandb version 0.19.11"
      ],
      "text/plain": [
       "<IPython.core.display.HTML object>"
      ]
     },
     "metadata": {},
     "output_type": "display_data"
    },
    {
     "data": {
      "text/html": [
       "Run data is saved locally in <code>C:\\work\\LLMOPSchatbot\\wandb\\run-20250516_010411-6or4c7wz</code>"
      ],
      "text/plain": [
       "<IPython.core.display.HTML object>"
      ]
     },
     "metadata": {},
     "output_type": "display_data"
    },
    {
     "data": {
      "text/html": [
       "Syncing run <strong><a href='https://wandb.ai/aayush-drishte-tredence/customer-support-prompt-experiments/runs/6or4c7wz' target=\"_blank\">top-tier</a></strong> to <a href='https://wandb.ai/aayush-drishte-tredence/customer-support-prompt-experiments' target=\"_blank\">Weights & Biases</a> (<a href='https://wandb.me/developer-guide' target=\"_blank\">docs</a>)<br>"
      ],
      "text/plain": [
       "<IPython.core.display.HTML object>"
      ]
     },
     "metadata": {},
     "output_type": "display_data"
    },
    {
     "data": {
      "text/html": [
       " View project at <a href='https://wandb.ai/aayush-drishte-tredence/customer-support-prompt-experiments' target=\"_blank\">https://wandb.ai/aayush-drishte-tredence/customer-support-prompt-experiments</a>"
      ],
      "text/plain": [
       "<IPython.core.display.HTML object>"
      ]
     },
     "metadata": {},
     "output_type": "display_data"
    },
    {
     "data": {
      "text/html": [
       " View run at <a href='https://wandb.ai/aayush-drishte-tredence/customer-support-prompt-experiments/runs/6or4c7wz' target=\"_blank\">https://wandb.ai/aayush-drishte-tredence/customer-support-prompt-experiments/runs/6or4c7wz</a>"
      ],
      "text/plain": [
       "<IPython.core.display.HTML object>"
      ]
     },
     "metadata": {},
     "output_type": "display_data"
    },
    {
     "data": {
      "text/html": [],
      "text/plain": [
       "<IPython.core.display.HTML object>"
      ]
     },
     "metadata": {},
     "output_type": "display_data"
    },
    {
     "data": {
      "text/html": [
       "<br>    <style><br>        .wandb-row {<br>            display: flex;<br>            flex-direction: row;<br>            flex-wrap: wrap;<br>            justify-content: flex-start;<br>            width: 100%;<br>        }<br>        .wandb-col {<br>            display: flex;<br>            flex-direction: column;<br>            flex-basis: 100%;<br>            flex: 1;<br>            padding: 10px;<br>        }<br>    </style><br><div class=\"wandb-row\"><div class=\"wandb-col\"><h3>Run history:</h3><br/><table class=\"wandb\"><tr><td>completion_tokens</td><td>▃▂▄█▅▃▂▄▃▄▇▁▅▇▄▅▃▁▂▄</td></tr><tr><td>cost</td><td>▃▂▄█▅▃▂▄▃▄▇▁▅▇▅▅▄▁▂▄</td></tr><tr><td>latency</td><td>▂▂▅█▃▁▃▁▁▅▂▂▆▄▂▄▂▁▂▄</td></tr><tr><td>prompt_tokens</td><td>▃▂▃▆▃▄▃▄▄▃▄▁▄▄▆▃█▁▃▃</td></tr><tr><td>total_tokens</td><td>▃▂▄█▅▃▂▄▃▄▇▁▅▇▅▅▄▁▂▄</td></tr></table><br/></div><div class=\"wandb-col\"><h3>Run summary:</h3><br/><table class=\"wandb\"><tr><td>completion_tokens</td><td>151</td></tr><tr><td>cost</td><td>3e-05</td></tr><tr><td>latency</td><td>3.41868</td></tr><tr><td>prompt_tokens</td><td>58</td></tr><tr><td>total_tokens</td><td>209</td></tr></table><br/></div></div>"
      ],
      "text/plain": [
       "<IPython.core.display.HTML object>"
      ]
     },
     "metadata": {},
     "output_type": "display_data"
    },
    {
     "data": {
      "text/html": [
       " View run <strong style=\"color:#cdcd00\">top-tier</strong> at: <a href='https://wandb.ai/aayush-drishte-tredence/customer-support-prompt-experiments/runs/6or4c7wz' target=\"_blank\">https://wandb.ai/aayush-drishte-tredence/customer-support-prompt-experiments/runs/6or4c7wz</a><br> View project at: <a href='https://wandb.ai/aayush-drishte-tredence/customer-support-prompt-experiments' target=\"_blank\">https://wandb.ai/aayush-drishte-tredence/customer-support-prompt-experiments</a><br>Synced 5 W&B file(s), 1 media file(s), 2 artifact file(s) and 0 other file(s)"
      ],
      "text/plain": [
       "<IPython.core.display.HTML object>"
      ]
     },
     "metadata": {},
     "output_type": "display_data"
    },
    {
     "data": {
      "text/html": [
       "Find logs at: <code>.\\wandb\\run-20250516_010411-6or4c7wz\\logs</code>"
      ],
      "text/plain": [
       "<IPython.core.display.HTML object>"
      ]
     },
     "metadata": {},
     "output_type": "display_data"
    },
    {
     "name": "stderr",
     "output_type": "stream",
     "text": [
      " 67%|██████████████████████████████████████████████████████▋                           | 16/24 [20:58<09:53, 74.13s/it]"
     ]
    },
    {
     "data": {
      "text/html": [
       "creating run (0.1s)"
      ],
      "text/plain": [
       "<IPython.core.display.HTML object>"
      ]
     },
     "metadata": {},
     "output_type": "display_data"
    },
    {
     "data": {
      "text/html": [
       "Tracking run with wandb version 0.19.11"
      ],
      "text/plain": [
       "<IPython.core.display.HTML object>"
      ]
     },
     "metadata": {},
     "output_type": "display_data"
    },
    {
     "data": {
      "text/html": [
       "Run data is saved locally in <code>C:\\work\\LLMOPSchatbot\\wandb\\run-20250516_010523-uf81yvvk</code>"
      ],
      "text/plain": [
       "<IPython.core.display.HTML object>"
      ]
     },
     "metadata": {},
     "output_type": "display_data"
    },
    {
     "data": {
      "text/html": [
       "Syncing run <strong><a href='https://wandb.ai/aayush-drishte-tredence/customer-support-prompt-experiments/runs/uf81yvvk' target=\"_blank\">holistic</a></strong> to <a href='https://wandb.ai/aayush-drishte-tredence/customer-support-prompt-experiments' target=\"_blank\">Weights & Biases</a> (<a href='https://wandb.me/developer-guide' target=\"_blank\">docs</a>)<br>"
      ],
      "text/plain": [
       "<IPython.core.display.HTML object>"
      ]
     },
     "metadata": {},
     "output_type": "display_data"
    },
    {
     "data": {
      "text/html": [
       " View project at <a href='https://wandb.ai/aayush-drishte-tredence/customer-support-prompt-experiments' target=\"_blank\">https://wandb.ai/aayush-drishte-tredence/customer-support-prompt-experiments</a>"
      ],
      "text/plain": [
       "<IPython.core.display.HTML object>"
      ]
     },
     "metadata": {},
     "output_type": "display_data"
    },
    {
     "data": {
      "text/html": [
       " View run at <a href='https://wandb.ai/aayush-drishte-tredence/customer-support-prompt-experiments/runs/uf81yvvk' target=\"_blank\">https://wandb.ai/aayush-drishte-tredence/customer-support-prompt-experiments/runs/uf81yvvk</a>"
      ],
      "text/plain": [
       "<IPython.core.display.HTML object>"
      ]
     },
     "metadata": {},
     "output_type": "display_data"
    },
    {
     "data": {
      "text/html": [],
      "text/plain": [
       "<IPython.core.display.HTML object>"
      ]
     },
     "metadata": {},
     "output_type": "display_data"
    },
    {
     "data": {
      "text/html": [
       "<br>    <style><br>        .wandb-row {<br>            display: flex;<br>            flex-direction: row;<br>            flex-wrap: wrap;<br>            justify-content: flex-start;<br>            width: 100%;<br>        }<br>        .wandb-col {<br>            display: flex;<br>            flex-direction: column;<br>            flex-basis: 100%;<br>            flex: 1;<br>            padding: 10px;<br>        }<br>    </style><br><div class=\"wandb-row\"><div class=\"wandb-col\"><h3>Run history:</h3><br/><table class=\"wandb\"><tr><td>completion_tokens</td><td>▅▂▄█▇▂▂▄▆▆█▄▄▇▆▅█▁▁▃</td></tr><tr><td>cost</td><td>▅▂▄█▇▂▂▄▆▅▇▃▄▆▆▅█▁▂▃</td></tr><tr><td>latency</td><td>▄▂▃▅█▂▁▆▆▃▅▆▂▄█▃▇▂▁▂</td></tr><tr><td>prompt_tokens</td><td>▃▂▃▆▃▄▃▄▄▃▄▁▄▄▆▃█▁▃▃</td></tr><tr><td>total_tokens</td><td>▅▂▄█▇▂▂▄▆▅▇▃▄▆▆▅█▁▂▃</td></tr></table><br/></div><div class=\"wandb-col\"><h3>Run summary:</h3><br/><table class=\"wandb\"><tr><td>completion_tokens</td><td>158</td></tr><tr><td>cost</td><td>3e-05</td></tr><tr><td>latency</td><td>1.93479</td></tr><tr><td>prompt_tokens</td><td>56</td></tr><tr><td>total_tokens</td><td>214</td></tr></table><br/></div></div>"
      ],
      "text/plain": [
       "<IPython.core.display.HTML object>"
      ]
     },
     "metadata": {},
     "output_type": "display_data"
    },
    {
     "data": {
      "text/html": [
       " View run <strong style=\"color:#cdcd00\">holistic</strong> at: <a href='https://wandb.ai/aayush-drishte-tredence/customer-support-prompt-experiments/runs/uf81yvvk' target=\"_blank\">https://wandb.ai/aayush-drishte-tredence/customer-support-prompt-experiments/runs/uf81yvvk</a><br> View project at: <a href='https://wandb.ai/aayush-drishte-tredence/customer-support-prompt-experiments' target=\"_blank\">https://wandb.ai/aayush-drishte-tredence/customer-support-prompt-experiments</a><br>Synced 5 W&B file(s), 1 media file(s), 2 artifact file(s) and 0 other file(s)"
      ],
      "text/plain": [
       "<IPython.core.display.HTML object>"
      ]
     },
     "metadata": {},
     "output_type": "display_data"
    },
    {
     "data": {
      "text/html": [
       "Find logs at: <code>.\\wandb\\run-20250516_010523-uf81yvvk\\logs</code>"
      ],
      "text/plain": [
       "<IPython.core.display.HTML object>"
      ]
     },
     "metadata": {},
     "output_type": "display_data"
    },
    {
     "name": "stderr",
     "output_type": "stream",
     "text": [
      " 71%|██████████████████████████████████████████████████████████                        | 17/24 [22:19<08:54, 76.39s/it]"
     ]
    },
    {
     "data": {
      "text/html": [
       "creating run (0.1s)"
      ],
      "text/plain": [
       "<IPython.core.display.HTML object>"
      ]
     },
     "metadata": {},
     "output_type": "display_data"
    },
    {
     "data": {
      "text/html": [
       "Tracking run with wandb version 0.19.11"
      ],
      "text/plain": [
       "<IPython.core.display.HTML object>"
      ]
     },
     "metadata": {},
     "output_type": "display_data"
    },
    {
     "data": {
      "text/html": [
       "Run data is saved locally in <code>C:\\work\\LLMOPSchatbot\\wandb\\run-20250516_010645-mrpp8i8k</code>"
      ],
      "text/plain": [
       "<IPython.core.display.HTML object>"
      ]
     },
     "metadata": {},
     "output_type": "display_data"
    },
    {
     "data": {
      "text/html": [
       "Syncing run <strong><a href='https://wandb.ai/aayush-drishte-tredence/customer-support-prompt-experiments/runs/mrpp8i8k' target=\"_blank\">cot-clarification</a></strong> to <a href='https://wandb.ai/aayush-drishte-tredence/customer-support-prompt-experiments' target=\"_blank\">Weights & Biases</a> (<a href='https://wandb.me/developer-guide' target=\"_blank\">docs</a>)<br>"
      ],
      "text/plain": [
       "<IPython.core.display.HTML object>"
      ]
     },
     "metadata": {},
     "output_type": "display_data"
    },
    {
     "data": {
      "text/html": [
       " View project at <a href='https://wandb.ai/aayush-drishte-tredence/customer-support-prompt-experiments' target=\"_blank\">https://wandb.ai/aayush-drishte-tredence/customer-support-prompt-experiments</a>"
      ],
      "text/plain": [
       "<IPython.core.display.HTML object>"
      ]
     },
     "metadata": {},
     "output_type": "display_data"
    },
    {
     "data": {
      "text/html": [
       " View run at <a href='https://wandb.ai/aayush-drishte-tredence/customer-support-prompt-experiments/runs/mrpp8i8k' target=\"_blank\">https://wandb.ai/aayush-drishte-tredence/customer-support-prompt-experiments/runs/mrpp8i8k</a>"
      ],
      "text/plain": [
       "<IPython.core.display.HTML object>"
      ]
     },
     "metadata": {},
     "output_type": "display_data"
    },
    {
     "data": {
      "text/html": [],
      "text/plain": [
       "<IPython.core.display.HTML object>"
      ]
     },
     "metadata": {},
     "output_type": "display_data"
    },
    {
     "data": {
      "text/html": [
       "<br>    <style><br>        .wandb-row {<br>            display: flex;<br>            flex-direction: row;<br>            flex-wrap: wrap;<br>            justify-content: flex-start;<br>            width: 100%;<br>        }<br>        .wandb-col {<br>            display: flex;<br>            flex-direction: column;<br>            flex-basis: 100%;<br>            flex: 1;<br>            padding: 10px;<br>        }<br>    </style><br><div class=\"wandb-row\"><div class=\"wandb-col\"><h3>Run history:</h3><br/><table class=\"wandb\"><tr><td>completion_tokens</td><td>▅▂▄▇▆▂▂▂▂▅█▁▃▅▇▅▅▄▂▅</td></tr><tr><td>cost</td><td>▅▂▄▇▆▂▂▃▃▅█▁▃▅▇▅▆▃▂▅</td></tr><tr><td>latency</td><td>▇▂▄▅▅▂▄▃▂▄▅▁▃▅█▄▄▅▃▅</td></tr><tr><td>prompt_tokens</td><td>▃▂▃▆▃▄▃▄▄▃▄▁▄▄▆▃█▁▃▃</td></tr><tr><td>total_tokens</td><td>▅▂▄▇▆▂▂▃▃▅█▁▃▅▇▅▆▃▂▅</td></tr></table><br/></div><div class=\"wandb-col\"><h3>Run summary:</h3><br/><table class=\"wandb\"><tr><td>completion_tokens</td><td>318</td></tr><tr><td>cost</td><td>6e-05</td></tr><tr><td>latency</td><td>5.54172</td></tr><tr><td>prompt_tokens</td><td>79</td></tr><tr><td>total_tokens</td><td>397</td></tr></table><br/></div></div>"
      ],
      "text/plain": [
       "<IPython.core.display.HTML object>"
      ]
     },
     "metadata": {},
     "output_type": "display_data"
    },
    {
     "data": {
      "text/html": [
       " View run <strong style=\"color:#cdcd00\">cot-clarification</strong> at: <a href='https://wandb.ai/aayush-drishte-tredence/customer-support-prompt-experiments/runs/mrpp8i8k' target=\"_blank\">https://wandb.ai/aayush-drishte-tredence/customer-support-prompt-experiments/runs/mrpp8i8k</a><br> View project at: <a href='https://wandb.ai/aayush-drishte-tredence/customer-support-prompt-experiments' target=\"_blank\">https://wandb.ai/aayush-drishte-tredence/customer-support-prompt-experiments</a><br>Synced 5 W&B file(s), 1 media file(s), 2 artifact file(s) and 0 other file(s)"
      ],
      "text/plain": [
       "<IPython.core.display.HTML object>"
      ]
     },
     "metadata": {},
     "output_type": "display_data"
    },
    {
     "data": {
      "text/html": [
       "Find logs at: <code>.\\wandb\\run-20250516_010645-mrpp8i8k\\logs</code>"
      ],
      "text/plain": [
       "<IPython.core.display.HTML object>"
      ]
     },
     "metadata": {},
     "output_type": "display_data"
    },
    {
     "name": "stderr",
     "output_type": "stream",
     "text": [
      " 75%|█████████████████████████████████████████████████████████████▌                    | 18/24 [24:18<08:55, 89.18s/it]"
     ]
    },
    {
     "data": {
      "text/html": [
       "creating run (0.1s)"
      ],
      "text/plain": [
       "<IPython.core.display.HTML object>"
      ]
     },
     "metadata": {},
     "output_type": "display_data"
    },
    {
     "data": {
      "text/html": [
       "Tracking run with wandb version 0.19.11"
      ],
      "text/plain": [
       "<IPython.core.display.HTML object>"
      ]
     },
     "metadata": {},
     "output_type": "display_data"
    },
    {
     "data": {
      "text/html": [
       "Run data is saved locally in <code>C:\\work\\LLMOPSchatbot\\wandb\\run-20250516_010844-275z5bce</code>"
      ],
      "text/plain": [
       "<IPython.core.display.HTML object>"
      ]
     },
     "metadata": {},
     "output_type": "display_data"
    },
    {
     "data": {
      "text/html": [
       "Syncing run <strong><a href='https://wandb.ai/aayush-drishte-tredence/customer-support-prompt-experiments/runs/275z5bce' target=\"_blank\">cot-safety-check</a></strong> to <a href='https://wandb.ai/aayush-drishte-tredence/customer-support-prompt-experiments' target=\"_blank\">Weights & Biases</a> (<a href='https://wandb.me/developer-guide' target=\"_blank\">docs</a>)<br>"
      ],
      "text/plain": [
       "<IPython.core.display.HTML object>"
      ]
     },
     "metadata": {},
     "output_type": "display_data"
    },
    {
     "data": {
      "text/html": [
       " View project at <a href='https://wandb.ai/aayush-drishte-tredence/customer-support-prompt-experiments' target=\"_blank\">https://wandb.ai/aayush-drishte-tredence/customer-support-prompt-experiments</a>"
      ],
      "text/plain": [
       "<IPython.core.display.HTML object>"
      ]
     },
     "metadata": {},
     "output_type": "display_data"
    },
    {
     "data": {
      "text/html": [
       " View run at <a href='https://wandb.ai/aayush-drishte-tredence/customer-support-prompt-experiments/runs/275z5bce' target=\"_blank\">https://wandb.ai/aayush-drishte-tredence/customer-support-prompt-experiments/runs/275z5bce</a>"
      ],
      "text/plain": [
       "<IPython.core.display.HTML object>"
      ]
     },
     "metadata": {},
     "output_type": "display_data"
    },
    {
     "data": {
      "text/html": [],
      "text/plain": [
       "<IPython.core.display.HTML object>"
      ]
     },
     "metadata": {},
     "output_type": "display_data"
    },
    {
     "data": {
      "text/html": [
       "<br>    <style><br>        .wandb-row {<br>            display: flex;<br>            flex-direction: row;<br>            flex-wrap: wrap;<br>            justify-content: flex-start;<br>            width: 100%;<br>        }<br>        .wandb-col {<br>            display: flex;<br>            flex-direction: column;<br>            flex-basis: 100%;<br>            flex: 1;<br>            padding: 10px;<br>        }<br>    </style><br><div class=\"wandb-row\"><div class=\"wandb-col\"><h3>Run history:</h3><br/><table class=\"wandb\"><tr><td>completion_tokens</td><td>▆▂▄▅▃▄▁▂▃▄█▁▄█▃▅▃▁▂▂</td></tr><tr><td>cost</td><td>▆▂▄▆▃▄▂▃▃▄█▁▅▇▄▅▄▁▂▂</td></tr><tr><td>latency</td><td>▄▁▅▅▂▃▁▁▃▃▅▂▅█▆▃▂▁▂▁</td></tr><tr><td>prompt_tokens</td><td>▃▂▃▆▃▄▃▄▄▃▄▁▄▄▆▃█▁▃▃</td></tr><tr><td>total_tokens</td><td>▆▂▄▆▃▄▂▃▃▄█▁▅▇▄▅▄▁▂▂</td></tr></table><br/></div><div class=\"wandb-col\"><h3>Run summary:</h3><br/><table class=\"wandb\"><tr><td>completion_tokens</td><td>76</td></tr><tr><td>cost</td><td>2e-05</td></tr><tr><td>latency</td><td>1.92259</td></tr><tr><td>prompt_tokens</td><td>78</td></tr><tr><td>total_tokens</td><td>154</td></tr></table><br/></div></div>"
      ],
      "text/plain": [
       "<IPython.core.display.HTML object>"
      ]
     },
     "metadata": {},
     "output_type": "display_data"
    },
    {
     "data": {
      "text/html": [
       " View run <strong style=\"color:#cdcd00\">cot-safety-check</strong> at: <a href='https://wandb.ai/aayush-drishte-tredence/customer-support-prompt-experiments/runs/275z5bce' target=\"_blank\">https://wandb.ai/aayush-drishte-tredence/customer-support-prompt-experiments/runs/275z5bce</a><br> View project at: <a href='https://wandb.ai/aayush-drishte-tredence/customer-support-prompt-experiments' target=\"_blank\">https://wandb.ai/aayush-drishte-tredence/customer-support-prompt-experiments</a><br>Synced 5 W&B file(s), 1 media file(s), 2 artifact file(s) and 0 other file(s)"
      ],
      "text/plain": [
       "<IPython.core.display.HTML object>"
      ]
     },
     "metadata": {},
     "output_type": "display_data"
    },
    {
     "data": {
      "text/html": [
       "Find logs at: <code>.\\wandb\\run-20250516_010844-275z5bce\\logs</code>"
      ],
      "text/plain": [
       "<IPython.core.display.HTML object>"
      ]
     },
     "metadata": {},
     "output_type": "display_data"
    },
    {
     "name": "stderr",
     "output_type": "stream",
     "text": [
      " 79%|████████████████████████████████████████████████████████████████▉                 | 19/24 [25:35<07:06, 85.36s/it]"
     ]
    },
    {
     "data": {
      "text/html": [
       "creating run (0.1s)"
      ],
      "text/plain": [
       "<IPython.core.display.HTML object>"
      ]
     },
     "metadata": {},
     "output_type": "display_data"
    },
    {
     "data": {
      "text/html": [
       "Tracking run with wandb version 0.19.11"
      ],
      "text/plain": [
       "<IPython.core.display.HTML object>"
      ]
     },
     "metadata": {},
     "output_type": "display_data"
    },
    {
     "data": {
      "text/html": [
       "Run data is saved locally in <code>C:\\work\\LLMOPSchatbot\\wandb\\run-20250516_011000-yaf9abq3</code>"
      ],
      "text/plain": [
       "<IPython.core.display.HTML object>"
      ]
     },
     "metadata": {},
     "output_type": "display_data"
    },
    {
     "data": {
      "text/html": [
       "Syncing run <strong><a href='https://wandb.ai/aayush-drishte-tredence/customer-support-prompt-experiments/runs/yaf9abq3' target=\"_blank\">fewshot-basic</a></strong> to <a href='https://wandb.ai/aayush-drishte-tredence/customer-support-prompt-experiments' target=\"_blank\">Weights & Biases</a> (<a href='https://wandb.me/developer-guide' target=\"_blank\">docs</a>)<br>"
      ],
      "text/plain": [
       "<IPython.core.display.HTML object>"
      ]
     },
     "metadata": {},
     "output_type": "display_data"
    },
    {
     "data": {
      "text/html": [
       " View project at <a href='https://wandb.ai/aayush-drishte-tredence/customer-support-prompt-experiments' target=\"_blank\">https://wandb.ai/aayush-drishte-tredence/customer-support-prompt-experiments</a>"
      ],
      "text/plain": [
       "<IPython.core.display.HTML object>"
      ]
     },
     "metadata": {},
     "output_type": "display_data"
    },
    {
     "data": {
      "text/html": [
       " View run at <a href='https://wandb.ai/aayush-drishte-tredence/customer-support-prompt-experiments/runs/yaf9abq3' target=\"_blank\">https://wandb.ai/aayush-drishte-tredence/customer-support-prompt-experiments/runs/yaf9abq3</a>"
      ],
      "text/plain": [
       "<IPython.core.display.HTML object>"
      ]
     },
     "metadata": {},
     "output_type": "display_data"
    },
    {
     "data": {
      "text/html": [],
      "text/plain": [
       "<IPython.core.display.HTML object>"
      ]
     },
     "metadata": {},
     "output_type": "display_data"
    },
    {
     "data": {
      "text/html": [
       "<br>    <style><br>        .wandb-row {<br>            display: flex;<br>            flex-direction: row;<br>            flex-wrap: wrap;<br>            justify-content: flex-start;<br>            width: 100%;<br>        }<br>        .wandb-col {<br>            display: flex;<br>            flex-direction: column;<br>            flex-basis: 100%;<br>            flex: 1;<br>            padding: 10px;<br>        }<br>    </style><br><div class=\"wandb-row\"><div class=\"wandb-col\"><h3>Run history:</h3><br/><table class=\"wandb\"><tr><td>completion_tokens</td><td>▃▃▃▆▄▃▁▅▄▃▆▁▇▇█▃█▂▁▄</td></tr><tr><td>cost</td><td>▃▂▃▆▄▃▁▄▄▃▅▁▆▆▇▃█▁▂▃</td></tr><tr><td>latency</td><td>▂▄▃▃▃▂▁▃▃▂█▂▆▆█▃▆▂▂▇</td></tr><tr><td>prompt_tokens</td><td>▃▂▃▆▃▄▃▄▄▃▄▁▄▄▆▃█▁▃▃</td></tr><tr><td>total_tokens</td><td>▃▂▃▆▄▃▁▄▄▃▅▁▆▆▇▃█▁▂▃</td></tr></table><br/></div><div class=\"wandb-col\"><h3>Run summary:</h3><br/><table class=\"wandb\"><tr><td>completion_tokens</td><td>64</td></tr><tr><td>cost</td><td>3e-05</td></tr><tr><td>latency</td><td>1.87681</td></tr><tr><td>prompt_tokens</td><td>162</td></tr><tr><td>total_tokens</td><td>226</td></tr></table><br/></div></div>"
      ],
      "text/plain": [
       "<IPython.core.display.HTML object>"
      ]
     },
     "metadata": {},
     "output_type": "display_data"
    },
    {
     "data": {
      "text/html": [
       " View run <strong style=\"color:#cdcd00\">fewshot-basic</strong> at: <a href='https://wandb.ai/aayush-drishte-tredence/customer-support-prompt-experiments/runs/yaf9abq3' target=\"_blank\">https://wandb.ai/aayush-drishte-tredence/customer-support-prompt-experiments/runs/yaf9abq3</a><br> View project at: <a href='https://wandb.ai/aayush-drishte-tredence/customer-support-prompt-experiments' target=\"_blank\">https://wandb.ai/aayush-drishte-tredence/customer-support-prompt-experiments</a><br>Synced 5 W&B file(s), 1 media file(s), 2 artifact file(s) and 0 other file(s)"
      ],
      "text/plain": [
       "<IPython.core.display.HTML object>"
      ]
     },
     "metadata": {},
     "output_type": "display_data"
    },
    {
     "data": {
      "text/html": [
       "Find logs at: <code>.\\wandb\\run-20250516_011000-yaf9abq3\\logs</code>"
      ],
      "text/plain": [
       "<IPython.core.display.HTML object>"
      ]
     },
     "metadata": {},
     "output_type": "display_data"
    },
    {
     "name": "stderr",
     "output_type": "stream",
     "text": [
      " 83%|████████████████████████████████████████████████████████████████████▎             | 20/24 [26:22<04:55, 73.85s/it]"
     ]
    },
    {
     "data": {
      "text/html": [
       "creating run (0.1s)"
      ],
      "text/plain": [
       "<IPython.core.display.HTML object>"
      ]
     },
     "metadata": {},
     "output_type": "display_data"
    },
    {
     "data": {
      "text/html": [
       "Tracking run with wandb version 0.19.11"
      ],
      "text/plain": [
       "<IPython.core.display.HTML object>"
      ]
     },
     "metadata": {},
     "output_type": "display_data"
    },
    {
     "data": {
      "text/html": [
       "Run data is saved locally in <code>C:\\work\\LLMOPSchatbot\\wandb\\run-20250516_011047-hxtsd18l</code>"
      ],
      "text/plain": [
       "<IPython.core.display.HTML object>"
      ]
     },
     "metadata": {},
     "output_type": "display_data"
    },
    {
     "data": {
      "text/html": [
       "Syncing run <strong><a href='https://wandb.ai/aayush-drishte-tredence/customer-support-prompt-experiments/runs/hxtsd18l' target=\"_blank\">fewshot-tone-aware</a></strong> to <a href='https://wandb.ai/aayush-drishte-tredence/customer-support-prompt-experiments' target=\"_blank\">Weights & Biases</a> (<a href='https://wandb.me/developer-guide' target=\"_blank\">docs</a>)<br>"
      ],
      "text/plain": [
       "<IPython.core.display.HTML object>"
      ]
     },
     "metadata": {},
     "output_type": "display_data"
    },
    {
     "data": {
      "text/html": [
       " View project at <a href='https://wandb.ai/aayush-drishte-tredence/customer-support-prompt-experiments' target=\"_blank\">https://wandb.ai/aayush-drishte-tredence/customer-support-prompt-experiments</a>"
      ],
      "text/plain": [
       "<IPython.core.display.HTML object>"
      ]
     },
     "metadata": {},
     "output_type": "display_data"
    },
    {
     "data": {
      "text/html": [
       " View run at <a href='https://wandb.ai/aayush-drishte-tredence/customer-support-prompt-experiments/runs/hxtsd18l' target=\"_blank\">https://wandb.ai/aayush-drishte-tredence/customer-support-prompt-experiments/runs/hxtsd18l</a>"
      ],
      "text/plain": [
       "<IPython.core.display.HTML object>"
      ]
     },
     "metadata": {},
     "output_type": "display_data"
    },
    {
     "data": {
      "text/html": [],
      "text/plain": [
       "<IPython.core.display.HTML object>"
      ]
     },
     "metadata": {},
     "output_type": "display_data"
    },
    {
     "data": {
      "text/html": [
       "<br>    <style><br>        .wandb-row {<br>            display: flex;<br>            flex-direction: row;<br>            flex-wrap: wrap;<br>            justify-content: flex-start;<br>            width: 100%;<br>        }<br>        .wandb-col {<br>            display: flex;<br>            flex-direction: column;<br>            flex-basis: 100%;<br>            flex: 1;<br>            padding: 10px;<br>        }<br>    </style><br><div class=\"wandb-row\"><div class=\"wandb-col\"><h3>Run history:</h3><br/><table class=\"wandb\"><tr><td>completion_tokens</td><td>▃▁▂█▄▂▂▂▅▂▆▃▅▆▇▃▅▃▃▂</td></tr><tr><td>cost</td><td>▃▁▂█▄▃▂▃▅▂▆▂▅▆▇▃▇▂▃▂</td></tr><tr><td>latency</td><td>▂▁█▄▄▁▁▁▅▂▄▄▄▂▇▂▃▂▃▂</td></tr><tr><td>prompt_tokens</td><td>▃▂▃▆▃▄▃▄▄▃▄▁▄▄▆▃█▁▃▃</td></tr><tr><td>total_tokens</td><td>▃▁▂█▄▃▂▃▅▂▆▂▅▆▇▃▇▂▃▂</td></tr></table><br/></div><div class=\"wandb-col\"><h3>Run summary:</h3><br/><table class=\"wandb\"><tr><td>completion_tokens</td><td>42</td></tr><tr><td>cost</td><td>3e-05</td></tr><tr><td>latency</td><td>1.27252</td></tr><tr><td>prompt_tokens</td><td>136</td></tr><tr><td>total_tokens</td><td>178</td></tr></table><br/></div></div>"
      ],
      "text/plain": [
       "<IPython.core.display.HTML object>"
      ]
     },
     "metadata": {},
     "output_type": "display_data"
    },
    {
     "data": {
      "text/html": [
       " View run <strong style=\"color:#cdcd00\">fewshot-tone-aware</strong> at: <a href='https://wandb.ai/aayush-drishte-tredence/customer-support-prompt-experiments/runs/hxtsd18l' target=\"_blank\">https://wandb.ai/aayush-drishte-tredence/customer-support-prompt-experiments/runs/hxtsd18l</a><br> View project at: <a href='https://wandb.ai/aayush-drishte-tredence/customer-support-prompt-experiments' target=\"_blank\">https://wandb.ai/aayush-drishte-tredence/customer-support-prompt-experiments</a><br>Synced 5 W&B file(s), 1 media file(s), 2 artifact file(s) and 0 other file(s)"
      ],
      "text/plain": [
       "<IPython.core.display.HTML object>"
      ]
     },
     "metadata": {},
     "output_type": "display_data"
    },
    {
     "data": {
      "text/html": [
       "Find logs at: <code>.\\wandb\\run-20250516_011047-hxtsd18l\\logs</code>"
      ],
      "text/plain": [
       "<IPython.core.display.HTML object>"
      ]
     },
     "metadata": {},
     "output_type": "display_data"
    },
    {
     "name": "stderr",
     "output_type": "stream",
     "text": [
      " 88%|███████████████████████████████████████████████████████████████████████▊          | 21/24 [27:13<03:21, 67.10s/it]"
     ]
    },
    {
     "data": {
      "text/html": [
       "creating run (0.1s)"
      ],
      "text/plain": [
       "<IPython.core.display.HTML object>"
      ]
     },
     "metadata": {},
     "output_type": "display_data"
    },
    {
     "data": {
      "text/html": [
       "Tracking run with wandb version 0.19.11"
      ],
      "text/plain": [
       "<IPython.core.display.HTML object>"
      ]
     },
     "metadata": {},
     "output_type": "display_data"
    },
    {
     "data": {
      "text/html": [
       "Run data is saved locally in <code>C:\\work\\LLMOPSchatbot\\wandb\\run-20250516_011138-sihns1ck</code>"
      ],
      "text/plain": [
       "<IPython.core.display.HTML object>"
      ]
     },
     "metadata": {},
     "output_type": "display_data"
    },
    {
     "data": {
      "text/html": [
       "Syncing run <strong><a href='https://wandb.ai/aayush-drishte-tredence/customer-support-prompt-experiments/runs/sihns1ck' target=\"_blank\">fewshot-with-cot</a></strong> to <a href='https://wandb.ai/aayush-drishte-tredence/customer-support-prompt-experiments' target=\"_blank\">Weights & Biases</a> (<a href='https://wandb.me/developer-guide' target=\"_blank\">docs</a>)<br>"
      ],
      "text/plain": [
       "<IPython.core.display.HTML object>"
      ]
     },
     "metadata": {},
     "output_type": "display_data"
    },
    {
     "data": {
      "text/html": [
       " View project at <a href='https://wandb.ai/aayush-drishte-tredence/customer-support-prompt-experiments' target=\"_blank\">https://wandb.ai/aayush-drishte-tredence/customer-support-prompt-experiments</a>"
      ],
      "text/plain": [
       "<IPython.core.display.HTML object>"
      ]
     },
     "metadata": {},
     "output_type": "display_data"
    },
    {
     "data": {
      "text/html": [
       " View run at <a href='https://wandb.ai/aayush-drishte-tredence/customer-support-prompt-experiments/runs/sihns1ck' target=\"_blank\">https://wandb.ai/aayush-drishte-tredence/customer-support-prompt-experiments/runs/sihns1ck</a>"
      ],
      "text/plain": [
       "<IPython.core.display.HTML object>"
      ]
     },
     "metadata": {},
     "output_type": "display_data"
    },
    {
     "data": {
      "text/html": [],
      "text/plain": [
       "<IPython.core.display.HTML object>"
      ]
     },
     "metadata": {},
     "output_type": "display_data"
    },
    {
     "data": {
      "text/html": [
       "<br>    <style><br>        .wandb-row {<br>            display: flex;<br>            flex-direction: row;<br>            flex-wrap: wrap;<br>            justify-content: flex-start;<br>            width: 100%;<br>        }<br>        .wandb-col {<br>            display: flex;<br>            flex-direction: column;<br>            flex-basis: 100%;<br>            flex: 1;<br>            padding: 10px;<br>        }<br>    </style><br><div class=\"wandb-row\"><div class=\"wandb-col\"><h3>Run history:</h3><br/><table class=\"wandb\"><tr><td>completion_tokens</td><td>▅▃▃██▃▂▂▃▃▅▁▄█▅▂▃▁▂▃</td></tr><tr><td>cost</td><td>▅▂▃█▇▃▂▃▃▃▅▁▄▇▆▃▅▁▂▃</td></tr><tr><td>latency</td><td>▅▂▃▇█▃▂▃▃▃▄▁▂▆▄▂▂▁▃▃</td></tr><tr><td>prompt_tokens</td><td>▃▂▃▆▃▄▃▄▄▃▄▁▄▄▆▃█▁▃▃</td></tr><tr><td>total_tokens</td><td>▅▂▃█▇▃▂▃▃▃▅▁▄▇▆▃▅▁▂▃</td></tr></table><br/></div><div class=\"wandb-col\"><h3>Run summary:</h3><br/><table class=\"wandb\"><tr><td>completion_tokens</td><td>95</td></tr><tr><td>cost</td><td>3e-05</td></tr><tr><td>latency</td><td>2.21753</td></tr><tr><td>prompt_tokens</td><td>111</td></tr><tr><td>total_tokens</td><td>206</td></tr></table><br/></div></div>"
      ],
      "text/plain": [
       "<IPython.core.display.HTML object>"
      ]
     },
     "metadata": {},
     "output_type": "display_data"
    },
    {
     "data": {
      "text/html": [
       " View run <strong style=\"color:#cdcd00\">fewshot-with-cot</strong> at: <a href='https://wandb.ai/aayush-drishte-tredence/customer-support-prompt-experiments/runs/sihns1ck' target=\"_blank\">https://wandb.ai/aayush-drishte-tredence/customer-support-prompt-experiments/runs/sihns1ck</a><br> View project at: <a href='https://wandb.ai/aayush-drishte-tredence/customer-support-prompt-experiments' target=\"_blank\">https://wandb.ai/aayush-drishte-tredence/customer-support-prompt-experiments</a><br>Synced 5 W&B file(s), 1 media file(s), 2 artifact file(s) and 0 other file(s)"
      ],
      "text/plain": [
       "<IPython.core.display.HTML object>"
      ]
     },
     "metadata": {},
     "output_type": "display_data"
    },
    {
     "data": {
      "text/html": [
       "Find logs at: <code>.\\wandb\\run-20250516_011138-sihns1ck\\logs</code>"
      ],
      "text/plain": [
       "<IPython.core.display.HTML object>"
      ]
     },
     "metadata": {},
     "output_type": "display_data"
    },
    {
     "name": "stderr",
     "output_type": "stream",
     "text": [
      " 92%|███████████████████████████████████████████████████████████████████████████▏      | 22/24 [28:19<02:13, 66.72s/it]"
     ]
    },
    {
     "data": {
      "text/html": [
       "creating run (0.6s)"
      ],
      "text/plain": [
       "<IPython.core.display.HTML object>"
      ]
     },
     "metadata": {},
     "output_type": "display_data"
    },
    {
     "data": {
      "text/html": [
       "Tracking run with wandb version 0.19.11"
      ],
      "text/plain": [
       "<IPython.core.display.HTML object>"
      ]
     },
     "metadata": {},
     "output_type": "display_data"
    },
    {
     "data": {
      "text/html": [
       "Run data is saved locally in <code>C:\\work\\LLMOPSchatbot\\wandb\\run-20250516_011244-qo0cvwy3</code>"
      ],
      "text/plain": [
       "<IPython.core.display.HTML object>"
      ]
     },
     "metadata": {},
     "output_type": "display_data"
    },
    {
     "data": {
      "text/html": [
       "Syncing run <strong><a href='https://wandb.ai/aayush-drishte-tredence/customer-support-prompt-experiments/runs/qo0cvwy3' target=\"_blank\">optimized</a></strong> to <a href='https://wandb.ai/aayush-drishte-tredence/customer-support-prompt-experiments' target=\"_blank\">Weights & Biases</a> (<a href='https://wandb.me/developer-guide' target=\"_blank\">docs</a>)<br>"
      ],
      "text/plain": [
       "<IPython.core.display.HTML object>"
      ]
     },
     "metadata": {},
     "output_type": "display_data"
    },
    {
     "data": {
      "text/html": [
       " View project at <a href='https://wandb.ai/aayush-drishte-tredence/customer-support-prompt-experiments' target=\"_blank\">https://wandb.ai/aayush-drishte-tredence/customer-support-prompt-experiments</a>"
      ],
      "text/plain": [
       "<IPython.core.display.HTML object>"
      ]
     },
     "metadata": {},
     "output_type": "display_data"
    },
    {
     "data": {
      "text/html": [
       " View run at <a href='https://wandb.ai/aayush-drishte-tredence/customer-support-prompt-experiments/runs/qo0cvwy3' target=\"_blank\">https://wandb.ai/aayush-drishte-tredence/customer-support-prompt-experiments/runs/qo0cvwy3</a>"
      ],
      "text/plain": [
       "<IPython.core.display.HTML object>"
      ]
     },
     "metadata": {},
     "output_type": "display_data"
    },
    {
     "data": {
      "text/html": [],
      "text/plain": [
       "<IPython.core.display.HTML object>"
      ]
     },
     "metadata": {},
     "output_type": "display_data"
    },
    {
     "data": {
      "text/html": [
       "<br>    <style><br>        .wandb-row {<br>            display: flex;<br>            flex-direction: row;<br>            flex-wrap: wrap;<br>            justify-content: flex-start;<br>            width: 100%;<br>        }<br>        .wandb-col {<br>            display: flex;<br>            flex-direction: column;<br>            flex-basis: 100%;<br>            flex: 1;<br>            padding: 10px;<br>        }<br>    </style><br><div class=\"wandb-row\"><div class=\"wandb-col\"><h3>Run history:</h3><br/><table class=\"wandb\"><tr><td>completion_tokens</td><td>▂▂▂▇▆▃▂▄▃▃▆▁▅█▄▄▃▄▂▄</td></tr><tr><td>cost</td><td>▃▂▃▇▆▃▂▄▄▃▆▁▅█▄▄▄▄▂▄</td></tr><tr><td>latency</td><td>▂▂▂▆█▃▁▄▃▂▅▁▆▆▄▃▃▄▂▄</td></tr><tr><td>prompt_tokens</td><td>▃▂▃▆▃▄▃▄▄▃▄▁▄▄▆▃█▁▃▃</td></tr><tr><td>total_tokens</td><td>▃▂▃▇▆▃▂▄▄▃▆▁▅█▄▄▄▄▂▄</td></tr></table><br/></div><div class=\"wandb-col\"><h3>Run summary:</h3><br/><table class=\"wandb\"><tr><td>completion_tokens</td><td>166</td></tr><tr><td>cost</td><td>4e-05</td></tr><tr><td>latency</td><td>3.15354</td></tr><tr><td>prompt_tokens</td><td>84</td></tr><tr><td>total_tokens</td><td>250</td></tr></table><br/></div></div>"
      ],
      "text/plain": [
       "<IPython.core.display.HTML object>"
      ]
     },
     "metadata": {},
     "output_type": "display_data"
    },
    {
     "data": {
      "text/html": [
       " View run <strong style=\"color:#cdcd00\">optimized</strong> at: <a href='https://wandb.ai/aayush-drishte-tredence/customer-support-prompt-experiments/runs/qo0cvwy3' target=\"_blank\">https://wandb.ai/aayush-drishte-tredence/customer-support-prompt-experiments/runs/qo0cvwy3</a><br> View project at: <a href='https://wandb.ai/aayush-drishte-tredence/customer-support-prompt-experiments' target=\"_blank\">https://wandb.ai/aayush-drishte-tredence/customer-support-prompt-experiments</a><br>Synced 5 W&B file(s), 1 media file(s), 2 artifact file(s) and 0 other file(s)"
      ],
      "text/plain": [
       "<IPython.core.display.HTML object>"
      ]
     },
     "metadata": {},
     "output_type": "display_data"
    },
    {
     "data": {
      "text/html": [
       "Find logs at: <code>.\\wandb\\run-20250516_011244-qo0cvwy3\\logs</code>"
      ],
      "text/plain": [
       "<IPython.core.display.HTML object>"
      ]
     },
     "metadata": {},
     "output_type": "display_data"
    },
    {
     "name": "stderr",
     "output_type": "stream",
     "text": [
      " 96%|██████████████████████████████████████████████████████████████████████████████▌   | 23/24 [29:40<01:11, 71.03s/it]"
     ]
    },
    {
     "data": {
      "text/html": [
       "creating run (0.0s)"
      ],
      "text/plain": [
       "<IPython.core.display.HTML object>"
      ]
     },
     "metadata": {},
     "output_type": "display_data"
    },
    {
     "data": {
      "text/html": [
       "Tracking run with wandb version 0.19.11"
      ],
      "text/plain": [
       "<IPython.core.display.HTML object>"
      ]
     },
     "metadata": {},
     "output_type": "display_data"
    },
    {
     "data": {
      "text/html": [
       "Run data is saved locally in <code>C:\\work\\LLMOPSchatbot\\wandb\\run-20250516_011405-wvdvnz3n</code>"
      ],
      "text/plain": [
       "<IPython.core.display.HTML object>"
      ]
     },
     "metadata": {},
     "output_type": "display_data"
    },
    {
     "data": {
      "text/html": [
       "Syncing run <strong><a href='https://wandb.ai/aayush-drishte-tredence/customer-support-prompt-experiments/runs/wvdvnz3n' target=\"_blank\">Finalized_prompt</a></strong> to <a href='https://wandb.ai/aayush-drishte-tredence/customer-support-prompt-experiments' target=\"_blank\">Weights & Biases</a> (<a href='https://wandb.me/developer-guide' target=\"_blank\">docs</a>)<br>"
      ],
      "text/plain": [
       "<IPython.core.display.HTML object>"
      ]
     },
     "metadata": {},
     "output_type": "display_data"
    },
    {
     "data": {
      "text/html": [
       " View project at <a href='https://wandb.ai/aayush-drishte-tredence/customer-support-prompt-experiments' target=\"_blank\">https://wandb.ai/aayush-drishte-tredence/customer-support-prompt-experiments</a>"
      ],
      "text/plain": [
       "<IPython.core.display.HTML object>"
      ]
     },
     "metadata": {},
     "output_type": "display_data"
    },
    {
     "data": {
      "text/html": [
       " View run at <a href='https://wandb.ai/aayush-drishte-tredence/customer-support-prompt-experiments/runs/wvdvnz3n' target=\"_blank\">https://wandb.ai/aayush-drishte-tredence/customer-support-prompt-experiments/runs/wvdvnz3n</a>"
      ],
      "text/plain": [
       "<IPython.core.display.HTML object>"
      ]
     },
     "metadata": {},
     "output_type": "display_data"
    },
    {
     "data": {
      "text/html": [],
      "text/plain": [
       "<IPython.core.display.HTML object>"
      ]
     },
     "metadata": {},
     "output_type": "display_data"
    },
    {
     "data": {
      "text/html": [
       "<br>    <style><br>        .wandb-row {<br>            display: flex;<br>            flex-direction: row;<br>            flex-wrap: wrap;<br>            justify-content: flex-start;<br>            width: 100%;<br>        }<br>        .wandb-col {<br>            display: flex;<br>            flex-direction: column;<br>            flex-basis: 100%;<br>            flex: 1;<br>            padding: 10px;<br>        }<br>    </style><br><div class=\"wandb-row\"><div class=\"wandb-col\"><h3>Run history:</h3><br/><table class=\"wandb\"><tr><td>completion_tokens</td><td>▄▃▃█▆▃▂▃▃▅▇▁▅▆▅▄▄▄▂▃</td></tr><tr><td>cost</td><td>▄▂▃█▆▃▂▄▄▅▇▁▅▆▅▄▅▄▂▃</td></tr><tr><td>latency</td><td>▅▄▅▇█▂▃▂▅▅▆▁▅▄▆▃▄▄▂▄</td></tr><tr><td>prompt_tokens</td><td>▃▂▃▆▃▄▃▄▄▃▄▁▄▄▆▃█▁▃▃</td></tr><tr><td>total_tokens</td><td>▄▂▃█▆▃▂▄▄▅▇▁▅▆▅▄▅▄▂▃</td></tr></table><br/></div><div class=\"wandb-col\"><h3>Run summary:</h3><br/><table class=\"wandb\"><tr><td>completion_tokens</td><td>112</td></tr><tr><td>cost</td><td>3e-05</td></tr><tr><td>latency</td><td>2.84139</td></tr><tr><td>prompt_tokens</td><td>103</td></tr><tr><td>total_tokens</td><td>215</td></tr></table><br/></div></div>"
      ],
      "text/plain": [
       "<IPython.core.display.HTML object>"
      ]
     },
     "metadata": {},
     "output_type": "display_data"
    },
    {
     "data": {
      "text/html": [
       " View run <strong style=\"color:#cdcd00\">Finalized_prompt</strong> at: <a href='https://wandb.ai/aayush-drishte-tredence/customer-support-prompt-experiments/runs/wvdvnz3n' target=\"_blank\">https://wandb.ai/aayush-drishte-tredence/customer-support-prompt-experiments/runs/wvdvnz3n</a><br> View project at: <a href='https://wandb.ai/aayush-drishte-tredence/customer-support-prompt-experiments' target=\"_blank\">https://wandb.ai/aayush-drishte-tredence/customer-support-prompt-experiments</a><br>Synced 5 W&B file(s), 1 media file(s), 2 artifact file(s) and 0 other file(s)"
      ],
      "text/plain": [
       "<IPython.core.display.HTML object>"
      ]
     },
     "metadata": {},
     "output_type": "display_data"
    },
    {
     "data": {
      "text/html": [
       "Find logs at: <code>.\\wandb\\run-20250516_011405-wvdvnz3n\\logs</code>"
      ],
      "text/plain": [
       "<IPython.core.display.HTML object>"
      ]
     },
     "metadata": {},
     "output_type": "display_data"
    },
    {
     "name": "stderr",
     "output_type": "stream",
     "text": [
      "100%|██████████████████████████████████████████████████████████████████████████████████| 24/24 [30:55<00:00, 77.32s/it]\n"
     ]
    }
   ],
   "source": [
    "for variant_name, prompt_template in tqdm(PROMPT_VARIANTS.items()):\n",
    "    run = wandb.init(project=\"customer-support-prompt-experiments\",\n",
    "               name=f\"{variant_name}\")\n",
    "    table = wandb.Table(columns=[\"customer_query\",\n",
    "                \"prompt\",\n",
    "                \"output_content\",\n",
    "                \"latency\",\n",
    "                \"completion_tokens\",\n",
    "                \"prompt_tokens\",\n",
    "                \"total_tokens\",\n",
    "                \"cost\"\n",
    "    ])\n",
    "    for i, customer_query in enumerate(CUSTOMER_QUERIES):\n",
    "        filled_prompt = prompt_template.format(customer_query=customer_query)\n",
    "        messages = [{\"role\":\"user\",\"content\":filled_prompt}]\n",
    "        content, usage, cost, latency = call_chat(client, model, messages)\n",
    "        completion_token=usage.completion_tokens\n",
    "        prompt_tokens = usage.prompt_tokens\n",
    "        total_tokens = usage.total_tokens\n",
    "        # print(type(content), type(usage), type(cost), type(latency))\n",
    "        table.add_data(customer_query, filled_prompt, content, latency,completion_token,prompt_tokens,total_tokens,cost)\n",
    "        logg = {#\"customer_query\":customer_query,\n",
    "                #\"prompt\":filled_prompt,\n",
    "                #\"output_content\":content,\n",
    "                \"latency\":latency,\n",
    "                \"completion_tokens\":completion_token,\n",
    "                \"prompt_tokens\":prompt_tokens,\n",
    "                \"total_tokens\":total_tokens,\n",
    "                \"cost\":cost}\n",
    "        wandb.log(logg)\n",
    "        run.log({\"prompt_table\":table})\n",
    "        \n",
    "    wandb.finish()\n",
    "    \n",
    "        \n",
    "        \n",
    "  "
   ]
  }
 ],
 "metadata": {
  "kernelspec": {
   "display_name": "Python 3 (ipykernel)",
   "language": "python",
   "name": "python3"
  },
  "language_info": {
   "codemirror_mode": {
    "name": "ipython",
    "version": 3
   },
   "file_extension": ".py",
   "mimetype": "text/x-python",
   "name": "python",
   "nbconvert_exporter": "python",
   "pygments_lexer": "ipython3",
   "version": "3.10.11"
  }
 },
 "nbformat": 4,
 "nbformat_minor": 5
}
